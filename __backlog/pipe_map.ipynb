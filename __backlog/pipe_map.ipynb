{
 "cells": [
  {
   "cell_type": "markdown",
   "id": "7b8ebb6a-6eb7-441f-a009-969b8841b6b1",
   "metadata": {},
   "source": [
    "# CorrelAid for Klima*Kollektiv Karte der Transportleitung, Rohdungstrassen und Zerrstörungspunkte entlang der Trasse\n",
    "Sep 27, 2024\n",
    "\n",
    "by Tim Appelhans"
   ]
  },
  {
   "cell_type": "code",
   "execution_count": 3,
   "id": "96438539-3e3c-43ae-9430-fdefe6f17ff9",
   "metadata": {
    "scrolled": true,
    "tags": []
   },
   "outputs": [],
   "source": [
    "# !pip install geopandas\n",
    "# !pip install folium\n",
    "# !pip install requests"
   ]
  },
  {
   "cell_type": "code",
   "execution_count": 4,
   "id": "2ac28f9a-638f-4ec5-bdac-acd4ccc7e4f1",
   "metadata": {},
   "outputs": [],
   "source": [
    "import pandas as pd\n",
    "import geopandas as gpd\n",
    "import folium\n",
    "from shapely.geometry import Point, Polygon, MultiPolygon, MultiLineString\n",
    "from shapely.ops import split, snap\n",
    "import json"
   ]
  },
  {
   "cell_type": "code",
   "execution_count": 5,
   "id": "c18fcbd4-fc25-4fb2-b321-4611ebce3433",
   "metadata": {
    "tags": []
   },
   "outputs": [
    {
     "data": {
      "text/plain": [
       "<folium.map.CustomPane at 0x7f11c5ccee90>"
      ]
     },
     "execution_count": 5,
     "metadata": {},
     "output_type": "execute_result"
    }
   ],
   "source": [
    "# ---- Visualization ----\n",
    "\n",
    "# Create a base map\n",
    "m = folium.Map(location = [51.0, 6.5], zoom_start = 10,  min_zoom = 8)\n",
    "\n",
    "# Set up custome map panes for points, lines, polygons\n",
    "folium.map.CustomPane(\"pointsPane\", z_index = 330).add_to(m)\n",
    "folium.map.CustomPane(\"linesPane\", z_index = 320).add_to(m)\n",
    "folium.map.CustomPane(\"polygonsPane\", z_index = 310).add_to(m)\n"
   ]
  },
  {
   "cell_type": "markdown",
   "id": "a1e9e1a2",
   "metadata": {},
   "source": [
    "Add `Esri.WorldImagery` tile layer (see [Leaflet Provider Demo](https://leaflet-extras.github.io/leaflet-providers/preview/) for a quick preview of various basemaps)."
   ]
  },
  {
   "cell_type": "code",
   "execution_count": 6,
   "id": "d32a58aa",
   "metadata": {},
   "outputs": [
    {
     "data": {
      "text/plain": [
       "<folium.raster_layers.TileLayer at 0x7f11c5cce5d0>"
      ]
     },
     "execution_count": 6,
     "metadata": {},
     "output_type": "execute_result"
    }
   ],
   "source": [
    "# add Esri World Imagery tile layer\n",
    "folium.TileLayer(\n",
    "    tiles='https://server.arcgisonline.com/ArcGIS/rest/services/World_Imagery/MapServer/tile/{z}/{y}/{x}',\n",
    "    attr='Esri',\n",
    "    name='Esri.WorldImagery',\n",
    "    overlay=False,\n",
    "    control=True,\n",
    "    min_zoom = 8,\n",
    "    show=False # hide layer when opening the map\n",
    ").add_to(m)\n",
    "\n",
    "# add grey canvas tile layer\n",
    "folium.TileLayer(\n",
    "    tiles='https://{s}.basemaps.cartocdn.com/light_all/{z}/{x}/{y}{r}.png',\n",
    "    attr='Carto',\n",
    "    name='Grey Canvas',\n",
    "    overlay=False,\n",
    "    control=True,\n",
    "    min_zoom = 8,\n",
    "    show=True # hide layer when opening the map\n",
    ").add_to(m)\n",
    "\n"
   ]
  },
  {
   "cell_type": "code",
   "execution_count": 8,
   "id": "bf760969",
   "metadata": {},
   "outputs": [
    {
     "ename": "DataSourceError",
     "evalue": "../data/hambachersee.gpkg: No such file or directory",
     "output_type": "error",
     "traceback": [
      "\u001b[0;31m---------------------------------------------------------------------------\u001b[0m",
      "\u001b[0;31mDataSourceError\u001b[0m                           Traceback (most recent call last)",
      "Cell \u001b[0;32mIn[8], line 1\u001b[0m\n\u001b[0;32m----> 1\u001b[0m hambacher_see \u001b[38;5;241m=\u001b[39m \u001b[43mgpd\u001b[49m\u001b[38;5;241;43m.\u001b[39;49m\u001b[43mread_file\u001b[49m\u001b[43m(\u001b[49m\u001b[38;5;124;43m\"\u001b[39;49m\u001b[38;5;124;43m../data/hambachersee.gpkg\u001b[39;49m\u001b[38;5;124;43m\"\u001b[39;49m\u001b[43m,\u001b[49m\u001b[43m \u001b[49m\u001b[43mlayer\u001b[49m\u001b[43m \u001b[49m\u001b[38;5;241;43m=\u001b[39;49m\u001b[43m \u001b[49m\u001b[38;5;124;43m'\u001b[39;49m\u001b[38;5;124;43mfid_2\u001b[39;49m\u001b[38;5;124;43m'\u001b[39;49m\u001b[43m)\u001b[49m\n\u001b[1;32m      2\u001b[0m \u001b[38;5;66;03m#hambacher_see = hambacher_see.set_geometry([Polygon(hambacher_see.get_coordinates())])\u001b[39;00m\n\u001b[1;32m      3\u001b[0m hambacher_see_manheim \u001b[38;5;241m=\u001b[39m gpd\u001b[38;5;241m.\u001b[39mread_file(\u001b[38;5;124m\"\u001b[39m\u001b[38;5;124m../data/hambachersee_manheim.gpkg\u001b[39m\u001b[38;5;124m\"\u001b[39m, layer \u001b[38;5;241m=\u001b[39m \u001b[38;5;124m'\u001b[39m\u001b[38;5;124mfid_1\u001b[39m\u001b[38;5;124m'\u001b[39m)\n",
      "File \u001b[0;32m~/.pyenv/versions/3.13.0/envs/klimakollektiv/lib/python3.13/site-packages/geopandas/io/file.py:294\u001b[0m, in \u001b[0;36m_read_file\u001b[0;34m(filename, bbox, mask, columns, rows, engine, **kwargs)\u001b[0m\n\u001b[1;32m    291\u001b[0m             from_bytes \u001b[38;5;241m=\u001b[39m \u001b[38;5;28;01mTrue\u001b[39;00m\n\u001b[1;32m    293\u001b[0m \u001b[38;5;28;01mif\u001b[39;00m engine \u001b[38;5;241m==\u001b[39m \u001b[38;5;124m\"\u001b[39m\u001b[38;5;124mpyogrio\u001b[39m\u001b[38;5;124m\"\u001b[39m:\n\u001b[0;32m--> 294\u001b[0m     \u001b[38;5;28;01mreturn\u001b[39;00m \u001b[43m_read_file_pyogrio\u001b[49m\u001b[43m(\u001b[49m\n\u001b[1;32m    295\u001b[0m \u001b[43m        \u001b[49m\u001b[43mfilename\u001b[49m\u001b[43m,\u001b[49m\u001b[43m \u001b[49m\u001b[43mbbox\u001b[49m\u001b[38;5;241;43m=\u001b[39;49m\u001b[43mbbox\u001b[49m\u001b[43m,\u001b[49m\u001b[43m \u001b[49m\u001b[43mmask\u001b[49m\u001b[38;5;241;43m=\u001b[39;49m\u001b[43mmask\u001b[49m\u001b[43m,\u001b[49m\u001b[43m \u001b[49m\u001b[43mcolumns\u001b[49m\u001b[38;5;241;43m=\u001b[39;49m\u001b[43mcolumns\u001b[49m\u001b[43m,\u001b[49m\u001b[43m \u001b[49m\u001b[43mrows\u001b[49m\u001b[38;5;241;43m=\u001b[39;49m\u001b[43mrows\u001b[49m\u001b[43m,\u001b[49m\u001b[43m \u001b[49m\u001b[38;5;241;43m*\u001b[39;49m\u001b[38;5;241;43m*\u001b[39;49m\u001b[43mkwargs\u001b[49m\n\u001b[1;32m    296\u001b[0m \u001b[43m    \u001b[49m\u001b[43m)\u001b[49m\n\u001b[1;32m    298\u001b[0m \u001b[38;5;28;01melif\u001b[39;00m engine \u001b[38;5;241m==\u001b[39m \u001b[38;5;124m\"\u001b[39m\u001b[38;5;124mfiona\u001b[39m\u001b[38;5;124m\"\u001b[39m:\n\u001b[1;32m    299\u001b[0m     \u001b[38;5;28;01mif\u001b[39;00m pd\u001b[38;5;241m.\u001b[39mapi\u001b[38;5;241m.\u001b[39mtypes\u001b[38;5;241m.\u001b[39mis_file_like(filename):\n",
      "File \u001b[0;32m~/.pyenv/versions/3.13.0/envs/klimakollektiv/lib/python3.13/site-packages/geopandas/io/file.py:547\u001b[0m, in \u001b[0;36m_read_file_pyogrio\u001b[0;34m(path_or_bytes, bbox, mask, rows, **kwargs)\u001b[0m\n\u001b[1;32m    538\u001b[0m     warnings\u001b[38;5;241m.\u001b[39mwarn(\n\u001b[1;32m    539\u001b[0m         \u001b[38;5;124m\"\u001b[39m\u001b[38;5;124mThe \u001b[39m\u001b[38;5;124m'\u001b[39m\u001b[38;5;124minclude_fields\u001b[39m\u001b[38;5;124m'\u001b[39m\u001b[38;5;124m and \u001b[39m\u001b[38;5;124m'\u001b[39m\u001b[38;5;124mignore_fields\u001b[39m\u001b[38;5;124m'\u001b[39m\u001b[38;5;124m keywords are deprecated, and \u001b[39m\u001b[38;5;124m\"\u001b[39m\n\u001b[1;32m    540\u001b[0m         \u001b[38;5;124m\"\u001b[39m\u001b[38;5;124mwill be removed in a future release. You can use the \u001b[39m\u001b[38;5;124m'\u001b[39m\u001b[38;5;124mcolumns\u001b[39m\u001b[38;5;124m'\u001b[39m\u001b[38;5;124m keyword \u001b[39m\u001b[38;5;124m\"\u001b[39m\n\u001b[0;32m   (...)\u001b[0m\n\u001b[1;32m    543\u001b[0m         stacklevel\u001b[38;5;241m=\u001b[39m\u001b[38;5;241m3\u001b[39m,\n\u001b[1;32m    544\u001b[0m     )\n\u001b[1;32m    545\u001b[0m     kwargs[\u001b[38;5;124m\"\u001b[39m\u001b[38;5;124mcolumns\u001b[39m\u001b[38;5;124m\"\u001b[39m] \u001b[38;5;241m=\u001b[39m kwargs\u001b[38;5;241m.\u001b[39mpop(\u001b[38;5;124m\"\u001b[39m\u001b[38;5;124minclude_fields\u001b[39m\u001b[38;5;124m\"\u001b[39m)\n\u001b[0;32m--> 547\u001b[0m \u001b[38;5;28;01mreturn\u001b[39;00m \u001b[43mpyogrio\u001b[49m\u001b[38;5;241;43m.\u001b[39;49m\u001b[43mread_dataframe\u001b[49m\u001b[43m(\u001b[49m\u001b[43mpath_or_bytes\u001b[49m\u001b[43m,\u001b[49m\u001b[43m \u001b[49m\u001b[43mbbox\u001b[49m\u001b[38;5;241;43m=\u001b[39;49m\u001b[43mbbox\u001b[49m\u001b[43m,\u001b[49m\u001b[43m \u001b[49m\u001b[38;5;241;43m*\u001b[39;49m\u001b[38;5;241;43m*\u001b[39;49m\u001b[43mkwargs\u001b[49m\u001b[43m)\u001b[49m\n",
      "File \u001b[0;32m~/.pyenv/versions/3.13.0/envs/klimakollektiv/lib/python3.13/site-packages/pyogrio/geopandas.py:265\u001b[0m, in \u001b[0;36mread_dataframe\u001b[0;34m(path_or_buffer, layer, encoding, columns, read_geometry, force_2d, skip_features, max_features, where, bbox, mask, fids, sql, sql_dialect, fid_as_index, use_arrow, on_invalid, arrow_to_pandas_kwargs, **kwargs)\u001b[0m\n\u001b[1;32m    260\u001b[0m \u001b[38;5;28;01mif\u001b[39;00m \u001b[38;5;129;01mnot\u001b[39;00m use_arrow:\n\u001b[1;32m    261\u001b[0m     \u001b[38;5;66;03m# For arrow, datetimes are read as is.\u001b[39;00m\n\u001b[1;32m    262\u001b[0m     \u001b[38;5;66;03m# For numpy IO, datetimes are read as string values to preserve timezone info\u001b[39;00m\n\u001b[1;32m    263\u001b[0m     \u001b[38;5;66;03m# as numpy does not directly support timezones.\u001b[39;00m\n\u001b[1;32m    264\u001b[0m     kwargs[\u001b[38;5;124m\"\u001b[39m\u001b[38;5;124mdatetime_as_string\u001b[39m\u001b[38;5;124m\"\u001b[39m] \u001b[38;5;241m=\u001b[39m \u001b[38;5;28;01mTrue\u001b[39;00m\n\u001b[0;32m--> 265\u001b[0m result \u001b[38;5;241m=\u001b[39m \u001b[43mread_func\u001b[49m\u001b[43m(\u001b[49m\n\u001b[1;32m    266\u001b[0m \u001b[43m    \u001b[49m\u001b[43mpath_or_buffer\u001b[49m\u001b[43m,\u001b[49m\n\u001b[1;32m    267\u001b[0m \u001b[43m    \u001b[49m\u001b[43mlayer\u001b[49m\u001b[38;5;241;43m=\u001b[39;49m\u001b[43mlayer\u001b[49m\u001b[43m,\u001b[49m\n\u001b[1;32m    268\u001b[0m \u001b[43m    \u001b[49m\u001b[43mencoding\u001b[49m\u001b[38;5;241;43m=\u001b[39;49m\u001b[43mencoding\u001b[49m\u001b[43m,\u001b[49m\n\u001b[1;32m    269\u001b[0m \u001b[43m    \u001b[49m\u001b[43mcolumns\u001b[49m\u001b[38;5;241;43m=\u001b[39;49m\u001b[43mcolumns\u001b[49m\u001b[43m,\u001b[49m\n\u001b[1;32m    270\u001b[0m \u001b[43m    \u001b[49m\u001b[43mread_geometry\u001b[49m\u001b[38;5;241;43m=\u001b[39;49m\u001b[43mread_geometry\u001b[49m\u001b[43m,\u001b[49m\n\u001b[1;32m    271\u001b[0m \u001b[43m    \u001b[49m\u001b[43mforce_2d\u001b[49m\u001b[38;5;241;43m=\u001b[39;49m\u001b[43mgdal_force_2d\u001b[49m\u001b[43m,\u001b[49m\n\u001b[1;32m    272\u001b[0m \u001b[43m    \u001b[49m\u001b[43mskip_features\u001b[49m\u001b[38;5;241;43m=\u001b[39;49m\u001b[43mskip_features\u001b[49m\u001b[43m,\u001b[49m\n\u001b[1;32m    273\u001b[0m \u001b[43m    \u001b[49m\u001b[43mmax_features\u001b[49m\u001b[38;5;241;43m=\u001b[39;49m\u001b[43mmax_features\u001b[49m\u001b[43m,\u001b[49m\n\u001b[1;32m    274\u001b[0m \u001b[43m    \u001b[49m\u001b[43mwhere\u001b[49m\u001b[38;5;241;43m=\u001b[39;49m\u001b[43mwhere\u001b[49m\u001b[43m,\u001b[49m\n\u001b[1;32m    275\u001b[0m \u001b[43m    \u001b[49m\u001b[43mbbox\u001b[49m\u001b[38;5;241;43m=\u001b[39;49m\u001b[43mbbox\u001b[49m\u001b[43m,\u001b[49m\n\u001b[1;32m    276\u001b[0m \u001b[43m    \u001b[49m\u001b[43mmask\u001b[49m\u001b[38;5;241;43m=\u001b[39;49m\u001b[43mmask\u001b[49m\u001b[43m,\u001b[49m\n\u001b[1;32m    277\u001b[0m \u001b[43m    \u001b[49m\u001b[43mfids\u001b[49m\u001b[38;5;241;43m=\u001b[39;49m\u001b[43mfids\u001b[49m\u001b[43m,\u001b[49m\n\u001b[1;32m    278\u001b[0m \u001b[43m    \u001b[49m\u001b[43msql\u001b[49m\u001b[38;5;241;43m=\u001b[39;49m\u001b[43msql\u001b[49m\u001b[43m,\u001b[49m\n\u001b[1;32m    279\u001b[0m \u001b[43m    \u001b[49m\u001b[43msql_dialect\u001b[49m\u001b[38;5;241;43m=\u001b[39;49m\u001b[43msql_dialect\u001b[49m\u001b[43m,\u001b[49m\n\u001b[1;32m    280\u001b[0m \u001b[43m    \u001b[49m\u001b[43mreturn_fids\u001b[49m\u001b[38;5;241;43m=\u001b[39;49m\u001b[43mfid_as_index\u001b[49m\u001b[43m,\u001b[49m\n\u001b[1;32m    281\u001b[0m \u001b[43m    \u001b[49m\u001b[38;5;241;43m*\u001b[39;49m\u001b[38;5;241;43m*\u001b[39;49m\u001b[43mkwargs\u001b[49m\u001b[43m,\u001b[49m\n\u001b[1;32m    282\u001b[0m \u001b[43m\u001b[49m\u001b[43m)\u001b[49m\n\u001b[1;32m    284\u001b[0m \u001b[38;5;28;01mif\u001b[39;00m use_arrow:\n\u001b[1;32m    285\u001b[0m     meta, table \u001b[38;5;241m=\u001b[39m result\n",
      "File \u001b[0;32m~/.pyenv/versions/3.13.0/envs/klimakollektiv/lib/python3.13/site-packages/pyogrio/raw.py:198\u001b[0m, in \u001b[0;36mread\u001b[0;34m(path_or_buffer, layer, encoding, columns, read_geometry, force_2d, skip_features, max_features, where, bbox, mask, fids, sql, sql_dialect, return_fids, datetime_as_string, **kwargs)\u001b[0m\n\u001b[1;32m     59\u001b[0m \u001b[38;5;250m\u001b[39m\u001b[38;5;124;03m\"\"\"Read OGR data source into numpy arrays.\u001b[39;00m\n\u001b[1;32m     60\u001b[0m \n\u001b[1;32m     61\u001b[0m \u001b[38;5;124;03mIMPORTANT: non-linear geometry types (e.g., MultiSurface) are converted\u001b[39;00m\n\u001b[0;32m   (...)\u001b[0m\n\u001b[1;32m    194\u001b[0m \n\u001b[1;32m    195\u001b[0m \u001b[38;5;124;03m\"\"\"\u001b[39;00m\n\u001b[1;32m    196\u001b[0m dataset_kwargs \u001b[38;5;241m=\u001b[39m _preprocess_options_key_value(kwargs) \u001b[38;5;28;01mif\u001b[39;00m kwargs \u001b[38;5;28;01melse\u001b[39;00m {}\n\u001b[0;32m--> 198\u001b[0m \u001b[38;5;28;01mreturn\u001b[39;00m \u001b[43mogr_read\u001b[49m\u001b[43m(\u001b[49m\n\u001b[1;32m    199\u001b[0m \u001b[43m    \u001b[49m\u001b[43mget_vsi_path_or_buffer\u001b[49m\u001b[43m(\u001b[49m\u001b[43mpath_or_buffer\u001b[49m\u001b[43m)\u001b[49m\u001b[43m,\u001b[49m\n\u001b[1;32m    200\u001b[0m \u001b[43m    \u001b[49m\u001b[43mlayer\u001b[49m\u001b[38;5;241;43m=\u001b[39;49m\u001b[43mlayer\u001b[49m\u001b[43m,\u001b[49m\n\u001b[1;32m    201\u001b[0m \u001b[43m    \u001b[49m\u001b[43mencoding\u001b[49m\u001b[38;5;241;43m=\u001b[39;49m\u001b[43mencoding\u001b[49m\u001b[43m,\u001b[49m\n\u001b[1;32m    202\u001b[0m \u001b[43m    \u001b[49m\u001b[43mcolumns\u001b[49m\u001b[38;5;241;43m=\u001b[39;49m\u001b[43mcolumns\u001b[49m\u001b[43m,\u001b[49m\n\u001b[1;32m    203\u001b[0m \u001b[43m    \u001b[49m\u001b[43mread_geometry\u001b[49m\u001b[38;5;241;43m=\u001b[39;49m\u001b[43mread_geometry\u001b[49m\u001b[43m,\u001b[49m\n\u001b[1;32m    204\u001b[0m \u001b[43m    \u001b[49m\u001b[43mforce_2d\u001b[49m\u001b[38;5;241;43m=\u001b[39;49m\u001b[43mforce_2d\u001b[49m\u001b[43m,\u001b[49m\n\u001b[1;32m    205\u001b[0m \u001b[43m    \u001b[49m\u001b[43mskip_features\u001b[49m\u001b[38;5;241;43m=\u001b[39;49m\u001b[43mskip_features\u001b[49m\u001b[43m,\u001b[49m\n\u001b[1;32m    206\u001b[0m \u001b[43m    \u001b[49m\u001b[43mmax_features\u001b[49m\u001b[38;5;241;43m=\u001b[39;49m\u001b[43mmax_features\u001b[49m\u001b[43m \u001b[49m\u001b[38;5;129;43;01mor\u001b[39;49;00m\u001b[43m \u001b[49m\u001b[38;5;241;43m0\u001b[39;49m\u001b[43m,\u001b[49m\n\u001b[1;32m    207\u001b[0m \u001b[43m    \u001b[49m\u001b[43mwhere\u001b[49m\u001b[38;5;241;43m=\u001b[39;49m\u001b[43mwhere\u001b[49m\u001b[43m,\u001b[49m\n\u001b[1;32m    208\u001b[0m \u001b[43m    \u001b[49m\u001b[43mbbox\u001b[49m\u001b[38;5;241;43m=\u001b[39;49m\u001b[43mbbox\u001b[49m\u001b[43m,\u001b[49m\n\u001b[1;32m    209\u001b[0m \u001b[43m    \u001b[49m\u001b[43mmask\u001b[49m\u001b[38;5;241;43m=\u001b[39;49m\u001b[43m_mask_to_wkb\u001b[49m\u001b[43m(\u001b[49m\u001b[43mmask\u001b[49m\u001b[43m)\u001b[49m\u001b[43m,\u001b[49m\n\u001b[1;32m    210\u001b[0m \u001b[43m    \u001b[49m\u001b[43mfids\u001b[49m\u001b[38;5;241;43m=\u001b[39;49m\u001b[43mfids\u001b[49m\u001b[43m,\u001b[49m\n\u001b[1;32m    211\u001b[0m \u001b[43m    \u001b[49m\u001b[43msql\u001b[49m\u001b[38;5;241;43m=\u001b[39;49m\u001b[43msql\u001b[49m\u001b[43m,\u001b[49m\n\u001b[1;32m    212\u001b[0m \u001b[43m    \u001b[49m\u001b[43msql_dialect\u001b[49m\u001b[38;5;241;43m=\u001b[39;49m\u001b[43msql_dialect\u001b[49m\u001b[43m,\u001b[49m\n\u001b[1;32m    213\u001b[0m \u001b[43m    \u001b[49m\u001b[43mreturn_fids\u001b[49m\u001b[38;5;241;43m=\u001b[39;49m\u001b[43mreturn_fids\u001b[49m\u001b[43m,\u001b[49m\n\u001b[1;32m    214\u001b[0m \u001b[43m    \u001b[49m\u001b[43mdataset_kwargs\u001b[49m\u001b[38;5;241;43m=\u001b[39;49m\u001b[43mdataset_kwargs\u001b[49m\u001b[43m,\u001b[49m\n\u001b[1;32m    215\u001b[0m \u001b[43m    \u001b[49m\u001b[43mdatetime_as_string\u001b[49m\u001b[38;5;241;43m=\u001b[39;49m\u001b[43mdatetime_as_string\u001b[49m\u001b[43m,\u001b[49m\n\u001b[1;32m    216\u001b[0m \u001b[43m\u001b[49m\u001b[43m)\u001b[49m\n",
      "File \u001b[0;32mpyogrio/_io.pyx:1240\u001b[0m, in \u001b[0;36mpyogrio._io.ogr_read\u001b[0;34m()\u001b[0m\n",
      "File \u001b[0;32mpyogrio/_io.pyx:220\u001b[0m, in \u001b[0;36mpyogrio._io.ogr_open\u001b[0;34m()\u001b[0m\n",
      "\u001b[0;31mDataSourceError\u001b[0m: ../data/hambachersee.gpkg: No such file or directory"
     ]
    }
   ],
   "source": [
    "hambacher_see = gpd.read_file(\"../data/hambachersee.gpkg\", layer = 'fid_2')\n",
    "#hambacher_see = hambacher_see.set_geometry([Polygon(hambacher_see.get_coordinates())])\n",
    "hambacher_see_manheim = gpd.read_file(\"../data/hambachersee_manheim.gpkg\", layer = 'fid_1')\n",
    "# hambacher_see_kerpen = hambacher_see_kerpen.set_geometry([Polygon(hambacher_see_kerpen.get_coordinates())])\n",
    "hambacher_see_manheim\n",
    "#hambacher_see.geometry = hambacher_see.geometry.apply(lambda x: Polygon(x.get_coordinates()))\n"
   ]
  },
  {
   "cell_type": "code",
   "execution_count": 628,
   "id": "16cc42ae",
   "metadata": {},
   "outputs": [
    {
     "data": {
      "text/html": [
       "<div>\n",
       "<style scoped>\n",
       "    .dataframe tbody tr th:only-of-type {\n",
       "        vertical-align: middle;\n",
       "    }\n",
       "\n",
       "    .dataframe tbody tr th {\n",
       "        vertical-align: top;\n",
       "    }\n",
       "\n",
       "    .dataframe thead th {\n",
       "        text-align: right;\n",
       "    }\n",
       "</style>\n",
       "<table border=\"1\" class=\"dataframe\">\n",
       "  <thead>\n",
       "    <tr style=\"text-align: right;\">\n",
       "      <th></th>\n",
       "      <th>name</th>\n",
       "      <th>geometry</th>\n",
       "    </tr>\n",
       "  </thead>\n",
       "  <tbody>\n",
       "    <tr>\n",
       "      <th>0</th>\n",
       "      <td>Garweiler See</td>\n",
       "      <td>MULTIPOLYGON (((6.4251 51.08995, 6.42429 51.08...</td>\n",
       "    </tr>\n",
       "  </tbody>\n",
       "</table>\n",
       "</div>"
      ],
      "text/plain": [
       "            name                                           geometry\n",
       "0  Garweiler See  MULTIPOLYGON (((6.4251 51.08995, 6.42429 51.08..."
      ]
     },
     "execution_count": 628,
     "metadata": {},
     "output_type": "execute_result"
    }
   ],
   "source": [
    "garzweiler_see = gpd.read_file(\"../data/garzweilersee_wasser.gpkg\", layer = 'garzweilersee_wasser')\n",
    "#garzweiler_see = garzweiler_see.set_geometry([Polygon(garzweiler_see.get_coordinates())])\n",
    "inde_see = gpd.read_file(\"../data/indersee_gp.gpkg\", layer = 'inder_see_wasser')\n",
    "inde_see = inde_see.set_geometry([Polygon(inde_see.get_coordinates())])\n",
    "\n",
    "garzweiler_see"
   ]
  },
  {
   "cell_type": "code",
   "execution_count": 629,
   "id": "4748ff37",
   "metadata": {},
   "outputs": [
    {
     "data": {
      "text/plain": [
       "<folium.features.GeoJson at 0x797bcd209780>"
      ]
     },
     "execution_count": 629,
     "metadata": {},
     "output_type": "execute_result"
    }
   ],
   "source": [
    "folium.GeoJson(\n",
    "    hambacher_see, \n",
    "    name=\"Hambacher See\", \n",
    "    pane = \"polygonsPane\",\n",
    "    style_function = lambda feature: {\n",
    "        'color': '#4e4eff',\n",
    "        'fillColor': \"#4e4eff\",\n",
    "        'fillOpacity': 0.8,\n",
    "        'fill': True,\n",
    "        'weight': 0\n",
    "    },\n",
    "    tooltip = \"Hambacher See\"\n",
    ").add_to(m)\n",
    "\n",
    "folium.GeoJson(\n",
    "    hambacher_see_manheim, \n",
    "    name=\"Hambacher See (Manheim)\", \n",
    "    pane = \"polygonsPane\",\n",
    "    style_function = lambda feature: {\n",
    "        'color': '#9c9cff',\n",
    "        'fillColor': \"#9c9cff\",\n",
    "        'fillOpacity': 0.8,\n",
    "        'fill': True,\n",
    "        'weight': 0\n",
    "    },\n",
    "    tooltip = \"Hambacher See (Manheim) - geplant\"\n",
    ").add_to(m)\n",
    "\n",
    "folium.GeoJson(\n",
    "    garzweiler_see, \n",
    "    name=\"Garzweiler See\", \n",
    "    pane = \"polygonsPane\",\n",
    "    style_function = lambda feature: {\n",
    "        'color': '#4e4eff',\n",
    "        'fillColor': \"#4e4eff\",\n",
    "        'fillOpacity': 0.8,\n",
    "        'fill': True,\n",
    "        'weight': 0\n",
    "    },\n",
    "    tooltip = \"Garzweiler See\"\n",
    ").add_to(m)\n",
    "\n",
    "folium.GeoJson(\n",
    "    inde_see, \n",
    "    name=\"Inde See\", \n",
    "    pane = \"polygonsPane\",\n",
    "    style_function = lambda feature: {\n",
    "        'color': '#4e4eff',\n",
    "        'fillColor': \"#4e4eff\",\n",
    "        'fillOpacity': 0.8,\n",
    "        'fill': True,\n",
    "        'weight': 0\n",
    "    },\n",
    "    tooltip = \"Inde See\"\n",
    ").add_to(m)"
   ]
  },
  {
   "cell_type": "code",
   "execution_count": 2,
   "id": "82f05450-21d6-4175-9bd5-b72158833767",
   "metadata": {},
   "outputs": [
    {
     "ename": "NameError",
     "evalue": "name 'gpd' is not defined",
     "output_type": "error",
     "traceback": [
      "\u001b[0;31m---------------------------------------------------------------------------\u001b[0m",
      "\u001b[0;31mNameError\u001b[0m                                 Traceback (most recent call last)",
      "Cell \u001b[0;32mIn[2], line 2\u001b[0m\n\u001b[1;32m      1\u001b[0m \u001b[38;5;66;03m# load GeoPackage file 'transportleitungen_geom' into geodataframe gdf\u001b[39;00m\n\u001b[0;32m----> 2\u001b[0m pipelines \u001b[38;5;241m=\u001b[39m \u001b[43mgpd\u001b[49m\u001b[38;5;241m.\u001b[39mread_file(\u001b[38;5;124m\"\u001b[39m\u001b[38;5;124m../data/transportleitung_geom.gpkg\u001b[39m\u001b[38;5;124m\"\u001b[39m)\n\u001b[1;32m      4\u001b[0m \u001b[38;5;66;03m# print to inspect the data\u001b[39;00m\n\u001b[1;32m      5\u001b[0m pipelines\u001b[38;5;241m.\u001b[39mName \u001b[38;5;241m=\u001b[39m [\u001b[38;5;124m\"\u001b[39m\u001b[38;5;124mTransportleitung West\u001b[39m\u001b[38;5;124m\"\u001b[39m, \u001b[38;5;124m\"\u001b[39m\u001b[38;5;124mTransportleitung Süd\u001b[39m\u001b[38;5;124m\"\u001b[39m]\n",
      "\u001b[0;31mNameError\u001b[0m: name 'gpd' is not defined"
     ]
    }
   ],
   "source": [
    "# load GeoPackage file 'transportleitungen_geom' into geodataframe gdf\n",
    "pipelines = gpd.read_file(\"../data/transportleitung_geom.gpkg\")\n",
    "\n",
    "# print to inspect the data\n",
    "pipelines.Name = [\"Transportleitung West\", \"Transportleitung Süd\"]\n",
    "# pipelines"
   ]
  },
  {
   "cell_type": "code",
   "execution_count": 1,
   "id": "ea755203-b2d5-43a1-a009-7fb2445f49cc",
   "metadata": {
    "scrolled": true
   },
   "outputs": [
    {
     "ename": "NameError",
     "evalue": "name 'pipelines' is not defined",
     "output_type": "error",
     "traceback": [
      "\u001b[0;31m---------------------------------------------------------------------------\u001b[0m",
      "\u001b[0;31mNameError\u001b[0m                                 Traceback (most recent call last)",
      "Cell \u001b[0;32mIn[1], line 1\u001b[0m\n\u001b[0;32m----> 1\u001b[0m pipelines \u001b[38;5;241m=\u001b[39m \u001b[43mpipelines\u001b[49m\u001b[38;5;241m.\u001b[39mto_crs(\u001b[38;5;124m\"\u001b[39m\u001b[38;5;124mEPSG:4326\u001b[39m\u001b[38;5;124m\"\u001b[39m) \u001b[38;5;66;03m# change CRS to the same as in 'consumer'\u001b[39;00m\n\u001b[1;32m      2\u001b[0m pipelines\u001b[38;5;241m.\u001b[39mcrs\n\u001b[1;32m      4\u001b[0m pt \u001b[38;5;241m=\u001b[39m pipelines[pipelines\u001b[38;5;241m.\u001b[39mName \u001b[38;5;241m==\u001b[39m \u001b[38;5;124m\"\u001b[39m\u001b[38;5;124mTransportleitung Süd\u001b[39m\u001b[38;5;124m\"\u001b[39m]\u001b[38;5;241m.\u001b[39mget_coordinates()\u001b[38;5;241m.\u001b[39miloc[\u001b[38;5;241m0\u001b[39m]\n",
      "\u001b[0;31mNameError\u001b[0m: name 'pipelines' is not defined"
     ]
    }
   ],
   "source": [
    "pipelines = pipelines.to_crs(\"EPSG:4326\") # change CRS to the same as in 'consumer'\n",
    "pipelines.crs\n",
    "\n",
    "pt = pipelines[pipelines.Name == \"Transportleitung Süd\"].get_coordinates().iloc[0]\n",
    "pt = Point(pt)\n",
    "\n",
    "print(pt.coords)\n",
    "\n",
    "#snap(pt, pipelines.geometry.union_all(), tolerance=1)\n",
    "\n",
    "jnk = split(pipelines.geometry.union_all(), snap(pt, pipelines.geometry.union_all(), tolerance=1))\n",
    "jnk\n",
    "jnk = gpd.GeoDataFrame(geometry = [jnk]).explode(column=\"geometry\", )\n",
    "\n",
    "pipelines_new = jnk.assign(Name = [\"Bündelungsleitung\", \"Garzweilerleitung\", \"Hambachleitung\"])\n",
    "\n",
    "\n",
    "pipelines_new = gpd.GeoDataFrame(pipelines_new).set_crs(\"EPSG:4326\")\n",
    "\n",
    "daten_pipelines = pd.read_csv(\"../data/Daten_Pipelines.csv\")\n",
    "daten_pipelines\n",
    "\n",
    "pipelines_new = pd.merge(pipelines_new, daten_pipelines, on = \"Name\")\n",
    "pipelines_new\n"
   ]
  },
  {
   "cell_type": "code",
   "execution_count": 632,
   "id": "7ec67a82-6fd8-49e0-9075-a3b5371df93d",
   "metadata": {},
   "outputs": [
    {
     "data": {
      "text/plain": [
       "<folium.features.GeoJson at 0x797bcd0a09a0>"
      ]
     },
     "execution_count": 632,
     "metadata": {},
     "output_type": "execute_result"
    }
   ],
   "source": [
    "\n",
    "# Add the GeoDataFrame to the map\n",
    "folium.GeoJson(\n",
    "    pipelines_new, \n",
    "    name=\"Wasserleitungen\", # again, determine the name for the layer toggle\n",
    "    pane = \"linesPane\",\n",
    "    style_function = lambda feature: {\n",
    "        'color': '#6b6bc9', # nif feature['properties']['Name'] == 'Bündelungsleitung' else '#3f3f3f',\n",
    "        'weight': 5 # feature['properties'][\"Leistung (m3/s)\"]\n",
    "    },\n",
    "    tooltip = folium.GeoJsonTooltip(fields=['Name'], labels = False),\n",
    "    popup = folium.GeoJsonPopup(fields=['Name', \"Strecke\", \"Länge (km)\", \"Leistung (m3/s)\", \"Trassenbreite (m)\", \"Anzahl der Röhren\"])\n",
    ").add_to(m)\n"
   ]
  },
  {
   "cell_type": "code",
   "execution_count": 633,
   "id": "28d9c213",
   "metadata": {},
   "outputs": [
    {
     "data": {
      "text/html": [
       "<div>\n",
       "<style scoped>\n",
       "    .dataframe tbody tr th:only-of-type {\n",
       "        vertical-align: middle;\n",
       "    }\n",
       "\n",
       "    .dataframe tbody tr th {\n",
       "        vertical-align: top;\n",
       "    }\n",
       "\n",
       "    .dataframe thead th {\n",
       "        text-align: right;\n",
       "    }\n",
       "</style>\n",
       "<table border=\"1\" class=\"dataframe\">\n",
       "  <thead>\n",
       "    <tr style=\"text-align: right;\">\n",
       "      <th></th>\n",
       "      <th>pkuid</th>\n",
       "      <th>geometry</th>\n",
       "    </tr>\n",
       "  </thead>\n",
       "  <tbody>\n",
       "    <tr>\n",
       "      <th>0</th>\n",
       "      <td>1</td>\n",
       "      <td>POLYGON ((6.86325 51.09179, 6.86972 51.09416, ...</td>\n",
       "    </tr>\n",
       "  </tbody>\n",
       "</table>\n",
       "</div>"
      ],
      "text/plain": [
       "   pkuid                                           geometry\n",
       "0      1  POLYGON ((6.86325 51.09179, 6.86972 51.09416, ..."
      ]
     },
     "execution_count": 633,
     "metadata": {},
     "output_type": "execute_result"
    }
   ],
   "source": [
    "# load GeoPackage file for clearing\n",
    "clearing = gpd.read_file(\"../data/rodungstrasse.gpkg\")\n",
    "\n",
    "# print to inspect the data\n",
    "clearing"
   ]
  },
  {
   "cell_type": "code",
   "execution_count": 634,
   "id": "925c64d9",
   "metadata": {},
   "outputs": [
    {
     "data": {
      "text/plain": [
       "<folium.features.GeoJson at 0x797bcd0a3670>"
      ]
     },
     "execution_count": 634,
     "metadata": {},
     "output_type": "execute_result"
    }
   ],
   "source": [
    "# Add the GeoDataFrame to the map\n",
    "folium.GeoJson(\n",
    "    data = clearing, \n",
    "    name = \"Rodungstrasse\", # again, determine the name for the layer toggle\n",
    "    pane = \"polygonsPane\",\n",
    "    style_function = lambda feature: {\n",
    "        'color': 'brown',\n",
    "        'weight': 1,\n",
    "        'fillColor': 'brown',\n",
    "        'fillOpacity': 0.3         \n",
    "    },tooltip = \"Rodungstrasse\"\n",
    ").add_to(m)"
   ]
  },
  {
   "cell_type": "code",
   "execution_count": 635,
   "id": "5d52acef",
   "metadata": {},
   "outputs": [
    {
     "data": {
      "text/html": [
       "<div>\n",
       "<style scoped>\n",
       "    .dataframe tbody tr th:only-of-type {\n",
       "        vertical-align: middle;\n",
       "    }\n",
       "\n",
       "    .dataframe tbody tr th {\n",
       "        vertical-align: top;\n",
       "    }\n",
       "\n",
       "    .dataframe thead th {\n",
       "        text-align: right;\n",
       "    }\n",
       "</style>\n",
       "<table border=\"1\" class=\"dataframe\">\n",
       "  <thead>\n",
       "    <tr style=\"text-align: right;\">\n",
       "      <th></th>\n",
       "      <th>Name</th>\n",
       "      <th>Description</th>\n",
       "      <th>geometry</th>\n",
       "    </tr>\n",
       "  </thead>\n",
       "  <tbody>\n",
       "    <tr>\n",
       "      <th>6</th>\n",
       "      <td>Untertunnelung</td>\n",
       "      <td>&lt;img src=\"https://mymaps.usercontent.google.co...</td>\n",
       "      <td>POINT Z (6.73984 51.09539 0)</td>\n",
       "    </tr>\n",
       "    <tr>\n",
       "      <th>7</th>\n",
       "      <td>Untertunnelung</td>\n",
       "      <td>&lt;img src=\"https://mymaps.usercontent.google.co...</td>\n",
       "      <td>POINT Z (6.72461 51.095 0)</td>\n",
       "    </tr>\n",
       "    <tr>\n",
       "      <th>8</th>\n",
       "      <td>Untertunnelung</td>\n",
       "      <td>&lt;img src=\"https://mymaps.usercontent.google.co...</td>\n",
       "      <td>POINT Z (6.72149 51.09492 0)</td>\n",
       "    </tr>\n",
       "    <tr>\n",
       "      <th>9</th>\n",
       "      <td>Untertunnelung</td>\n",
       "      <td>&lt;img src=\"https://mymaps.usercontent.google.co...</td>\n",
       "      <td>POINT Z (6.71884 51.09489 0)</td>\n",
       "    </tr>\n",
       "    <tr>\n",
       "      <th>10</th>\n",
       "      <td>Untertunnelung</td>\n",
       "      <td>&lt;img src=\"https://mymaps.usercontent.google.co...</td>\n",
       "      <td>POINT Z (6.70021 51.0923 0)</td>\n",
       "    </tr>\n",
       "    <tr>\n",
       "      <th>12</th>\n",
       "      <td>Untertunnelung</td>\n",
       "      <td>&lt;img src=\"https://mymaps.usercontent.google.co...</td>\n",
       "      <td>POINT Z (6.69067 51.08073 0)</td>\n",
       "    </tr>\n",
       "    <tr>\n",
       "      <th>14</th>\n",
       "      <td>Untertunnelung</td>\n",
       "      <td>&lt;img src=\"https://mymaps.usercontent.google.co...</td>\n",
       "      <td>POINT Z (6.8002 51.1113 0)</td>\n",
       "    </tr>\n",
       "    <tr>\n",
       "      <th>15</th>\n",
       "      <td>Untertunnelung</td>\n",
       "      <td>&lt;img src=\"https://mymaps.usercontent.google.co...</td>\n",
       "      <td>POINT Z (6.64382 51.06629 0)</td>\n",
       "    </tr>\n",
       "    <tr>\n",
       "      <th>17</th>\n",
       "      <td>Untertunnelung</td>\n",
       "      <td>&lt;img src=\"https://mymaps.usercontent.google.co...</td>\n",
       "      <td>POINT Z (6.86135 51.09593 0)</td>\n",
       "    </tr>\n",
       "    <tr>\n",
       "      <th>18</th>\n",
       "      <td>Untertunnelung</td>\n",
       "      <td>&lt;img src=\"https://mymaps.usercontent.google.co...</td>\n",
       "      <td>POINT Z (6.86292 51.10259 0)</td>\n",
       "    </tr>\n",
       "  </tbody>\n",
       "</table>\n",
       "</div>"
      ],
      "text/plain": [
       "              Name                                        Description  \\\n",
       "6   Untertunnelung  <img src=\"https://mymaps.usercontent.google.co...   \n",
       "7   Untertunnelung  <img src=\"https://mymaps.usercontent.google.co...   \n",
       "8   Untertunnelung  <img src=\"https://mymaps.usercontent.google.co...   \n",
       "9   Untertunnelung  <img src=\"https://mymaps.usercontent.google.co...   \n",
       "10  Untertunnelung  <img src=\"https://mymaps.usercontent.google.co...   \n",
       "12  Untertunnelung  <img src=\"https://mymaps.usercontent.google.co...   \n",
       "14  Untertunnelung  <img src=\"https://mymaps.usercontent.google.co...   \n",
       "15  Untertunnelung  <img src=\"https://mymaps.usercontent.google.co...   \n",
       "17  Untertunnelung  <img src=\"https://mymaps.usercontent.google.co...   \n",
       "18  Untertunnelung  <img src=\"https://mymaps.usercontent.google.co...   \n",
       "\n",
       "                        geometry  \n",
       "6   POINT Z (6.73984 51.09539 0)  \n",
       "7     POINT Z (6.72461 51.095 0)  \n",
       "8   POINT Z (6.72149 51.09492 0)  \n",
       "9   POINT Z (6.71884 51.09489 0)  \n",
       "10   POINT Z (6.70021 51.0923 0)  \n",
       "12  POINT Z (6.69067 51.08073 0)  \n",
       "14    POINT Z (6.8002 51.1113 0)  \n",
       "15  POINT Z (6.64382 51.06629 0)  \n",
       "17  POINT Z (6.86135 51.09593 0)  \n",
       "18  POINT Z (6.86292 51.10259 0)  "
      ]
     },
     "execution_count": 635,
     "metadata": {},
     "output_type": "execute_result"
    }
   ],
   "source": [
    "# load GeoPackage file 'transportleitungen_geom' into geodataframe gdf\n",
    "\n",
    "destruction_data = gpd.read_file(\"../data/Rheinwassertransportleitung.kml\")\n",
    "\n",
    "# polys = destructions[destructions.geom_type=='Polygon']\n",
    "points = destruction_data[destruction_data.geom_type=='Point']\n",
    "\n",
    "destructions_idx = points['Name'].str.contains('Zerstörung')\n",
    "destructions = points[destructions_idx]\n",
    "\n",
    "constructions_idx = ~destructions_idx\n",
    "constructions = points[constructions_idx]\n",
    "\n",
    "constructions\n",
    "# print to inspect the data\n",
    "# polys\n",
    "# points"
   ]
  },
  {
   "cell_type": "code",
   "execution_count": 636,
   "id": "6dd2d689",
   "metadata": {},
   "outputs": [
    {
     "data": {
      "text/plain": [
       "<folium.features.GeoJson at 0x797bcd0a2590>"
      ]
     },
     "execution_count": 636,
     "metadata": {},
     "output_type": "execute_result"
    }
   ],
   "source": [
    "folium.GeoJson(\n",
    "    destructions, \n",
    "    name = \"Zerstörungen\", # again, determine the name for the layer toggle\n",
    "    pane = \"pointsPane\",\n",
    "    marker=folium.Marker(\n",
    "        icon=folium.Icon(color='lightgreen', icon='burst', prefix='fa')\n",
    "    ),\n",
    "    tooltip = folium.GeoJsonTooltip(fields=['Name'], labels = False)\n",
    ").add_to(m)"
   ]
  },
  {
   "cell_type": "code",
   "execution_count": 637,
   "id": "26b12b03",
   "metadata": {},
   "outputs": [
    {
     "data": {
      "text/plain": [
       "<folium.features.GeoJson at 0x797bcd0a1000>"
      ]
     },
     "execution_count": 637,
     "metadata": {},
     "output_type": "execute_result"
    }
   ],
   "source": [
    "folium.GeoJson(\n",
    "    constructions, \n",
    "    name = \"Baumaßnahmen\", # again, determine the name for the layer toggle\n",
    "    pane = \"pointsPane\",\n",
    "    marker=folium.Marker(\n",
    "        icon=folium.Icon(color='lightred', icon='person-digging', prefix='fa')\n",
    "    ),\n",
    "    tooltip = folium.GeoJsonTooltip(fields=['Name'], labels = False)\n",
    ").add_to(m)"
   ]
  },
  {
   "cell_type": "code",
   "execution_count": 638,
   "id": "1f2bbb64",
   "metadata": {},
   "outputs": [
    {
     "data": {
      "text/html": [
       "<div>\n",
       "<style scoped>\n",
       "    .dataframe tbody tr th:only-of-type {\n",
       "        vertical-align: middle;\n",
       "    }\n",
       "\n",
       "    .dataframe tbody tr th {\n",
       "        vertical-align: top;\n",
       "    }\n",
       "\n",
       "    .dataframe thead th {\n",
       "        text-align: right;\n",
       "    }\n",
       "</style>\n",
       "<table border=\"1\" class=\"dataframe\">\n",
       "  <thead>\n",
       "    <tr style=\"text-align: right;\">\n",
       "      <th></th>\n",
       "      <th>name</th>\n",
       "      <th>geometry</th>\n",
       "    </tr>\n",
       "  </thead>\n",
       "  <tbody>\n",
       "    <tr>\n",
       "      <th>0</th>\n",
       "      <td>Pumpbauwerk am Ufer</td>\n",
       "      <td>MULTIPOLYGON (((6.85991 51.09692, 6.86044 51.0...</td>\n",
       "    </tr>\n",
       "  </tbody>\n",
       "</table>\n",
       "</div>"
      ],
      "text/plain": [
       "                  name                                           geometry\n",
       "0  Pumpbauwerk am Ufer  MULTIPOLYGON (((6.85991 51.09692, 6.86044 51.0..."
      ]
     },
     "execution_count": 638,
     "metadata": {},
     "output_type": "execute_result"
    }
   ],
   "source": [
    "pumpwerk = gpd.read_file(\"../data/Pumpbauwerk_Ufer.gpkg\")\n",
    "pumpwerk"
   ]
  },
  {
   "cell_type": "code",
   "execution_count": 639,
   "id": "9c6fc81d",
   "metadata": {},
   "outputs": [
    {
     "data": {
      "text/html": [
       "<div>\n",
       "<style scoped>\n",
       "    .dataframe tbody tr th:only-of-type {\n",
       "        vertical-align: middle;\n",
       "    }\n",
       "\n",
       "    .dataframe tbody tr th {\n",
       "        vertical-align: top;\n",
       "    }\n",
       "\n",
       "    .dataframe thead th {\n",
       "        text-align: right;\n",
       "    }\n",
       "</style>\n",
       "<table border=\"1\" class=\"dataframe\">\n",
       "  <thead>\n",
       "    <tr style=\"text-align: right;\">\n",
       "      <th></th>\n",
       "      <th>name</th>\n",
       "      <th>geometry</th>\n",
       "    </tr>\n",
       "  </thead>\n",
       "  <tbody>\n",
       "    <tr>\n",
       "      <th>0</th>\n",
       "      <td>Verteilbauwerk</td>\n",
       "      <td>MULTIPOLYGON (((6.62035 51.05626, 6.62112 51.0...</td>\n",
       "    </tr>\n",
       "  </tbody>\n",
       "</table>\n",
       "</div>"
      ],
      "text/plain": [
       "             name                                           geometry\n",
       "0  Verteilbauwerk  MULTIPOLYGON (((6.62035 51.05626, 6.62112 51.0..."
      ]
     },
     "execution_count": 639,
     "metadata": {},
     "output_type": "execute_result"
    }
   ],
   "source": [
    "verteilwerk = gpd.read_file(\"../data/Verteilbauwerk.gpkg\")\n",
    "verteilwerk"
   ]
  },
  {
   "cell_type": "code",
   "execution_count": 640,
   "id": "a73fd14d",
   "metadata": {},
   "outputs": [
    {
     "data": {
      "text/plain": [
       "<folium.features.GeoJson at 0x797bcd1d16c0>"
      ]
     },
     "execution_count": 640,
     "metadata": {},
     "output_type": "execute_result"
    }
   ],
   "source": [
    "folium.GeoJson(\n",
    "    pumpwerk, \n",
    "    name = \"Pumpbauwerk\", # again, determine the name for the layer toggle\n",
    "    pane = \"linesPane\",\n",
    "    style_function = lambda feature: {\n",
    "        'color': 'black',\n",
    "        'weight': 1,\n",
    "        'fillColor': 'black',\n",
    "        'fillOpacity': 1         \n",
    "    },\n",
    "    tooltip = folium.GeoJsonTooltip(fields=['name'], labels = False)\n",
    ").add_to(m)"
   ]
  },
  {
   "cell_type": "code",
   "execution_count": 641,
   "id": "dc9eb497",
   "metadata": {},
   "outputs": [
    {
     "data": {
      "text/plain": [
       "<folium.features.GeoJson at 0x797bcd0a2f20>"
      ]
     },
     "execution_count": 641,
     "metadata": {},
     "output_type": "execute_result"
    }
   ],
   "source": [
    "folium.GeoJson(\n",
    "    verteilwerk, \n",
    "    name = \"Verteilbauwerk\", # again, determine the name for the layer toggle\n",
    "    pane = \"linesPane\",\n",
    "    style_function = lambda feature: {\n",
    "        'color': 'black',\n",
    "        'weight': 1,\n",
    "        'fillColor': 'black',\n",
    "        'fillOpacity': 1\n",
    "    },\n",
    "    tooltip = folium.GeoJsonTooltip(fields=['name'], labels = False)\n",
    ").add_to(m)"
   ]
  },
  {
   "cell_type": "code",
   "execution_count": 642,
   "id": "ac77b063",
   "metadata": {},
   "outputs": [
    {
     "name": "stdout",
     "output_type": "stream",
     "text": [
      "Your map should have been opened in your browser automatically.\n",
      "Press ctrl+c to return.\n"
     ]
    },
    {
     "name": "stderr",
     "output_type": "stream",
     "text": [
      "Error: Failed to open Wayland display, fallback to X11. WAYLAND_DISPLAY='wayland-0' DISPLAY=':0'\n"
     ]
    }
   ],
   "source": [
    "# Add layer control to toggle layers\n",
    "folium.LayerControl().add_to(m)\n",
    "#m\n",
    "m.show_in_browser()"
   ]
  },
  {
   "cell_type": "code",
   "execution_count": 643,
   "id": "2e6de312-754a-475f-84a8-f55f9b2b346b",
   "metadata": {},
   "outputs": [],
   "source": [
    "# save the map as hmtl\n",
    "m.save('pipe_map.html')"
   ]
  },
  {
   "cell_type": "markdown",
   "id": "bca0fd71-37f8-4aaa-9594-fd3cde3efaeb",
   "metadata": {},
   "source": [
    "---"
   ]
  }
 ],
 "metadata": {
  "kernelspec": {
   "display_name": "klimakollektiv",
   "language": "python",
   "name": "python3"
  },
  "language_info": {
   "codemirror_mode": {
    "name": "ipython",
    "version": 3
   },
   "file_extension": ".py",
   "mimetype": "text/x-python",
   "name": "python",
   "nbconvert_exporter": "python",
   "pygments_lexer": "ipython3",
   "version": "3.13.0"
  }
 },
 "nbformat": 4,
 "nbformat_minor": 5
}
