{
 "cells": [
  {
   "cell_type": "markdown",
   "id": "7b8ebb6a-6eb7-441f-a009-969b8841b6b1",
   "metadata": {},
   "source": [
    "# CorrelAid for Klima*Kollektiv Karte der Transportleitung, Rohdungstrassen und Zerrstörungspunkte entlang der Trasse\n",
    "Sep 27, 2024\n",
    "\n",
    "by Tim Appelhans"
   ]
  },
  {
   "cell_type": "code",
   "execution_count": 623,
   "id": "96438539-3e3c-43ae-9430-fdefe6f17ff9",
   "metadata": {
    "scrolled": true,
    "tags": []
   },
   "outputs": [],
   "source": [
    "# !pip install geopandas\n",
    "# !pip install folium\n",
    "# !pip install requests"
   ]
  },
  {
   "cell_type": "code",
   "execution_count": 624,
   "id": "2ac28f9a-638f-4ec5-bdac-acd4ccc7e4f1",
   "metadata": {},
   "outputs": [],
   "source": [
    "import pandas as pd\n",
    "import geopandas as gpd\n",
    "import folium\n",
    "from shapely.geometry import Point, Polygon, MultiPolygon, MultiLineString\n",
    "from shapely.ops import split, snap\n",
    "import json"
   ]
  },
  {
   "cell_type": "code",
   "execution_count": 625,
   "id": "c18fcbd4-fc25-4fb2-b321-4611ebce3433",
   "metadata": {
    "tags": []
   },
   "outputs": [
    {
     "data": {
      "text/plain": [
       "<folium.map.CustomPane at 0x797bcd176050>"
      ]
     },
     "execution_count": 625,
     "metadata": {},
     "output_type": "execute_result"
    }
   ],
   "source": [
    "# ---- Visualization ----\n",
    "\n",
    "# Create a base map\n",
    "m = folium.Map(location = [51.0, 6.5], zoom_start = 10,  min_zoom = 8)\n",
    "\n",
    "# Set up custome map panes for points, lines, polygons\n",
    "folium.map.CustomPane(\"pointsPane\", z_index = 330).add_to(m)\n",
    "folium.map.CustomPane(\"linesPane\", z_index = 320).add_to(m)\n",
    "folium.map.CustomPane(\"polygonsPane\", z_index = 310).add_to(m)\n"
   ]
  },
  {
   "cell_type": "markdown",
   "id": "a1e9e1a2",
   "metadata": {},
   "source": [
    "Add `Esri.WorldImagery` tile layer (see [Leaflet Provider Demo](https://leaflet-extras.github.io/leaflet-providers/preview/) for a quick preview of various basemaps)."
   ]
  },
  {
   "cell_type": "code",
   "execution_count": 626,
   "id": "d32a58aa",
   "metadata": {},
   "outputs": [
    {
     "data": {
      "text/plain": [
       "<folium.raster_layers.TileLayer at 0x797bcd176920>"
      ]
     },
     "execution_count": 626,
     "metadata": {},
     "output_type": "execute_result"
    }
   ],
   "source": [
    "# add Esri World Imagery tile layer\n",
    "folium.TileLayer(\n",
    "    tiles='https://server.arcgisonline.com/ArcGIS/rest/services/World_Imagery/MapServer/tile/{z}/{y}/{x}',\n",
    "    attr='Esri',\n",
    "    name='Esri.WorldImagery',\n",
    "    overlay=False,\n",
    "    control=True,\n",
    "    min_zoom = 8,\n",
    "    show=False # hide layer when opening the map\n",
    ").add_to(m)\n",
    "\n",
    "# add grey canvas tile layer\n",
    "folium.TileLayer(\n",
    "    tiles='https://{s}.basemaps.cartocdn.com/light_all/{z}/{x}/{y}{r}.png',\n",
    "    attr='Carto',\n",
    "    name='Grey Canvas',\n",
    "    overlay=False,\n",
    "    control=True,\n",
    "    min_zoom = 8,\n",
    "    show=True # hide layer when opening the map\n",
    ").add_to(m)\n",
    "\n"
   ]
  },
  {
   "cell_type": "code",
   "execution_count": 627,
   "id": "bf760969",
   "metadata": {},
   "outputs": [
    {
     "data": {
      "text/html": [
       "<div>\n",
       "<style scoped>\n",
       "    .dataframe tbody tr th:only-of-type {\n",
       "        vertical-align: middle;\n",
       "    }\n",
       "\n",
       "    .dataframe tbody tr th {\n",
       "        vertical-align: top;\n",
       "    }\n",
       "\n",
       "    .dataframe thead th {\n",
       "        text-align: right;\n",
       "    }\n",
       "</style>\n",
       "<table border=\"1\" class=\"dataframe\">\n",
       "  <thead>\n",
       "    <tr style=\"text-align: right;\">\n",
       "      <th></th>\n",
       "      <th>id</th>\n",
       "      <th>Name</th>\n",
       "      <th>geometry</th>\n",
       "    </tr>\n",
       "  </thead>\n",
       "  <tbody>\n",
       "    <tr>\n",
       "      <th>0</th>\n",
       "      <td>1</td>\n",
       "      <td>Hambacher See Kerpen</td>\n",
       "      <td>MULTIPOLYGON (((6.58389 50.89438, 6.59273 50.8...</td>\n",
       "    </tr>\n",
       "  </tbody>\n",
       "</table>\n",
       "</div>"
      ],
      "text/plain": [
       "   id                  Name                                           geometry\n",
       "0   1  Hambacher See Kerpen  MULTIPOLYGON (((6.58389 50.89438, 6.59273 50.8..."
      ]
     },
     "execution_count": 627,
     "metadata": {},
     "output_type": "execute_result"
    }
   ],
   "source": [
    "hambacher_see = gpd.read_file(\"../data/hambachersee.gpkg\", layer = 'fid_2')\n",
    "#hambacher_see = hambacher_see.set_geometry([Polygon(hambacher_see.get_coordinates())])\n",
    "hambacher_see_manheim = gpd.read_file(\"../data/hambachersee_manheim.gpkg\", layer = 'fid_1')\n",
    "# hambacher_see_kerpen = hambacher_see_kerpen.set_geometry([Polygon(hambacher_see_kerpen.get_coordinates())])\n",
    "hambacher_see_manheim\n",
    "#hambacher_see.geometry = hambacher_see.geometry.apply(lambda x: Polygon(x.get_coordinates()))\n"
   ]
  },
  {
   "cell_type": "code",
   "execution_count": 628,
   "id": "16cc42ae",
   "metadata": {},
   "outputs": [
    {
     "data": {
      "text/html": [
       "<div>\n",
       "<style scoped>\n",
       "    .dataframe tbody tr th:only-of-type {\n",
       "        vertical-align: middle;\n",
       "    }\n",
       "\n",
       "    .dataframe tbody tr th {\n",
       "        vertical-align: top;\n",
       "    }\n",
       "\n",
       "    .dataframe thead th {\n",
       "        text-align: right;\n",
       "    }\n",
       "</style>\n",
       "<table border=\"1\" class=\"dataframe\">\n",
       "  <thead>\n",
       "    <tr style=\"text-align: right;\">\n",
       "      <th></th>\n",
       "      <th>name</th>\n",
       "      <th>geometry</th>\n",
       "    </tr>\n",
       "  </thead>\n",
       "  <tbody>\n",
       "    <tr>\n",
       "      <th>0</th>\n",
       "      <td>Garweiler See</td>\n",
       "      <td>MULTIPOLYGON (((6.4251 51.08995, 6.42429 51.08...</td>\n",
       "    </tr>\n",
       "  </tbody>\n",
       "</table>\n",
       "</div>"
      ],
      "text/plain": [
       "            name                                           geometry\n",
       "0  Garweiler See  MULTIPOLYGON (((6.4251 51.08995, 6.42429 51.08..."
      ]
     },
     "execution_count": 628,
     "metadata": {},
     "output_type": "execute_result"
    }
   ],
   "source": [
    "garzweiler_see = gpd.read_file(\"../data/garzweilersee_wasser.gpkg\", layer = 'garzweilersee_wasser')\n",
    "#garzweiler_see = garzweiler_see.set_geometry([Polygon(garzweiler_see.get_coordinates())])\n",
    "inde_see = gpd.read_file(\"../data/indersee_gp.gpkg\", layer = 'inder_see_wasser')\n",
    "inde_see = inde_see.set_geometry([Polygon(inde_see.get_coordinates())])\n",
    "\n",
    "garzweiler_see"
   ]
  },
  {
   "cell_type": "code",
   "execution_count": 629,
   "id": "4748ff37",
   "metadata": {},
   "outputs": [
    {
     "data": {
      "text/plain": [
       "<folium.features.GeoJson at 0x797bcd209780>"
      ]
     },
     "execution_count": 629,
     "metadata": {},
     "output_type": "execute_result"
    }
   ],
   "source": [
    "folium.GeoJson(\n",
    "    hambacher_see, \n",
    "    name=\"Hambacher See\", \n",
    "    pane = \"polygonsPane\",\n",
    "    style_function = lambda feature: {\n",
    "        'color': '#4e4eff',\n",
    "        'fillColor': \"#4e4eff\",\n",
    "        'fillOpacity': 0.8,\n",
    "        'fill': True,\n",
    "        'weight': 0\n",
    "    },\n",
    "    tooltip = \"Hambacher See\"\n",
    ").add_to(m)\n",
    "\n",
    "folium.GeoJson(\n",
    "    hambacher_see_manheim, \n",
    "    name=\"Hambacher See (Manheim)\", \n",
    "    pane = \"polygonsPane\",\n",
    "    style_function = lambda feature: {\n",
    "        'color': '#9c9cff',\n",
    "        'fillColor': \"#9c9cff\",\n",
    "        'fillOpacity': 0.8,\n",
    "        'fill': True,\n",
    "        'weight': 0\n",
    "    },\n",
    "    tooltip = \"Hambacher See (Manheim) - geplant\"\n",
    ").add_to(m)\n",
    "\n",
    "folium.GeoJson(\n",
    "    garzweiler_see, \n",
    "    name=\"Garzweiler See\", \n",
    "    pane = \"polygonsPane\",\n",
    "    style_function = lambda feature: {\n",
    "        'color': '#4e4eff',\n",
    "        'fillColor': \"#4e4eff\",\n",
    "        'fillOpacity': 0.8,\n",
    "        'fill': True,\n",
    "        'weight': 0\n",
    "    },\n",
    "    tooltip = \"Garzweiler See\"\n",
    ").add_to(m)\n",
    "\n",
    "folium.GeoJson(\n",
    "    inde_see, \n",
    "    name=\"Inde See\", \n",
    "    pane = \"polygonsPane\",\n",
    "    style_function = lambda feature: {\n",
    "        'color': '#4e4eff',\n",
    "        'fillColor': \"#4e4eff\",\n",
    "        'fillOpacity': 0.8,\n",
    "        'fill': True,\n",
    "        'weight': 0\n",
    "    },\n",
    "    tooltip = \"Inde See\"\n",
    ").add_to(m)"
   ]
  },
  {
   "cell_type": "code",
   "execution_count": 630,
   "id": "82f05450-21d6-4175-9bd5-b72158833767",
   "metadata": {},
   "outputs": [],
   "source": [
    "# load GeoPackage file 'transportleitungen_geom' into geodataframe gdf\n",
    "pipelines = gpd.read_file(\"../data/transportleitung_geom.gpkg\")\n",
    "\n",
    "# print to inspect the data\n",
    "pipelines.Name = [\"Transportleitung West\", \"Transportleitung Süd\"]\n",
    "# pipelines"
   ]
  },
  {
   "cell_type": "code",
   "execution_count": 631,
   "id": "ea755203-b2d5-43a1-a009-7fb2445f49cc",
   "metadata": {
    "scrolled": true
   },
   "outputs": [
    {
     "name": "stdout",
     "output_type": "stream",
     "text": [
      "<shapely.coords.CoordinateSequence object at 0x797bcd20a620>\n"
     ]
    },
    {
     "data": {
      "text/plain": [
       "Index(['geometry', 'Name', 'Strecke', 'Länge (km)', 'Leistung (m3/s)',\n",
       "       'Trassenbreite (m)', 'Anzahl der Röhren'],\n",
       "      dtype='object')"
      ]
     },
     "execution_count": 631,
     "metadata": {},
     "output_type": "execute_result"
    }
   ],
   "source": [
    "pipelines = pipelines.to_crs(\"EPSG:4326\") # change CRS to the same as in 'consumer'\n",
    "pipelines.crs\n",
    "\n",
    "pt = pipelines[pipelines.Name == \"Transportleitung Süd\"].get_coordinates().iloc[0]\n",
    "pt = Point(pt)\n",
    "\n",
    "print(pt.coords)\n",
    "\n",
    "#snap(pt, pipelines.geometry.union_all(), tolerance=1)\n",
    "\n",
    "jnk = split(pipelines.geometry.union_all(), snap(pt, pipelines.geometry.union_all(), tolerance=1))\n",
    "jnk\n",
    "jnk = gpd.GeoDataFrame(geometry = [jnk]).explode(column=\"geometry\", )\n",
    "\n",
    "pipelines_new = jnk.assign(Name = [\"Bündelungsleitung\", \"Garzweilerleitung\", \"Hambachleitung\"])\n",
    "\n",
    "\n",
    "pipelines_new = gpd.GeoDataFrame(pipelines_new).set_crs(\"EPSG:4326\")\n",
    "\n",
    "daten_pipelines = pd.read_csv(\"../data/Daten_Pipelines.csv\")\n",
    "daten_pipelines\n",
    "\n",
    "pipelines_new = pd.merge(pipelines_new, daten_pipelines, on = \"Name\")\n",
    "pipelines_new.columns"
   ]
  },
  {
   "cell_type": "code",
   "execution_count": 632,
   "id": "7ec67a82-6fd8-49e0-9075-a3b5371df93d",
   "metadata": {},
   "outputs": [
    {
     "data": {
      "text/plain": [
       "<folium.features.GeoJson at 0x797bcd0a09a0>"
      ]
     },
     "execution_count": 632,
     "metadata": {},
     "output_type": "execute_result"
    }
   ],
   "source": [
    "\n",
    "# Add the GeoDataFrame to the map\n",
    "folium.GeoJson(\n",
    "    pipelines_new, \n",
    "    name=\"Wasserleitungen\", # again, determine the name for the layer toggle\n",
    "    pane = \"linesPane\",\n",
    "    style_function = lambda feature: {\n",
    "        'color': '#6b6bc9', # nif feature['properties']['Name'] == 'Bündelungsleitung' else '#3f3f3f',\n",
    "        'weight': 5 # feature['properties'][\"Leistung (m3/s)\"]\n",
    "    },\n",
    "    tooltip = folium.GeoJsonTooltip(fields=['Name'], labels = False),\n",
    "    popup = folium.GeoJsonPopup(fields=['Name', \"Strecke\", \"Länge (km)\", \"Leistung (m3/s)\", \"Trassenbreite (m)\", \"Anzahl der Röhren\"])\n",
    ").add_to(m)\n"
   ]
  },
  {
   "cell_type": "code",
   "execution_count": 633,
   "id": "28d9c213",
   "metadata": {},
   "outputs": [
    {
     "data": {
      "text/html": [
       "<div>\n",
       "<style scoped>\n",
       "    .dataframe tbody tr th:only-of-type {\n",
       "        vertical-align: middle;\n",
       "    }\n",
       "\n",
       "    .dataframe tbody tr th {\n",
       "        vertical-align: top;\n",
       "    }\n",
       "\n",
       "    .dataframe thead th {\n",
       "        text-align: right;\n",
       "    }\n",
       "</style>\n",
       "<table border=\"1\" class=\"dataframe\">\n",
       "  <thead>\n",
       "    <tr style=\"text-align: right;\">\n",
       "      <th></th>\n",
       "      <th>pkuid</th>\n",
       "      <th>geometry</th>\n",
       "    </tr>\n",
       "  </thead>\n",
       "  <tbody>\n",
       "    <tr>\n",
       "      <th>0</th>\n",
       "      <td>1</td>\n",
       "      <td>POLYGON ((6.86325 51.09179, 6.86972 51.09416, ...</td>\n",
       "    </tr>\n",
       "  </tbody>\n",
       "</table>\n",
       "</div>"
      ],
      "text/plain": [
       "   pkuid                                           geometry\n",
       "0      1  POLYGON ((6.86325 51.09179, 6.86972 51.09416, ..."
      ]
     },
     "execution_count": 633,
     "metadata": {},
     "output_type": "execute_result"
    }
   ],
   "source": [
    "# load GeoPackage file for clearing\n",
    "clearing = gpd.read_file(\"../data/rodungstrasse.gpkg\")\n",
    "\n",
    "# print to inspect the data\n",
    "clearing"
   ]
  },
  {
   "cell_type": "code",
   "execution_count": 634,
   "id": "925c64d9",
   "metadata": {},
   "outputs": [
    {
     "data": {
      "text/plain": [
       "<folium.features.GeoJson at 0x797bcd0a3670>"
      ]
     },
     "execution_count": 634,
     "metadata": {},
     "output_type": "execute_result"
    }
   ],
   "source": [
    "# Add the GeoDataFrame to the map\n",
    "folium.GeoJson(\n",
    "    data = clearing, \n",
    "    name = \"Rodungstrasse\", # again, determine the name for the layer toggle\n",
    "    pane = \"polygonsPane\",\n",
    "    style_function = lambda feature: {\n",
    "        'color': 'brown',\n",
    "        'weight': 1,\n",
    "        'fillColor': 'brown',\n",
    "        'fillOpacity': 0.3         \n",
    "    },tooltip = \"Rodungstrasse\"\n",
    ").add_to(m)"
   ]
  },
  {
   "cell_type": "code",
   "execution_count": 635,
   "id": "5d52acef",
   "metadata": {},
   "outputs": [
    {
     "data": {
      "text/html": [
       "<div>\n",
       "<style scoped>\n",
       "    .dataframe tbody tr th:only-of-type {\n",
       "        vertical-align: middle;\n",
       "    }\n",
       "\n",
       "    .dataframe tbody tr th {\n",
       "        vertical-align: top;\n",
       "    }\n",
       "\n",
       "    .dataframe thead th {\n",
       "        text-align: right;\n",
       "    }\n",
       "</style>\n",
       "<table border=\"1\" class=\"dataframe\">\n",
       "  <thead>\n",
       "    <tr style=\"text-align: right;\">\n",
       "      <th></th>\n",
       "      <th>Name</th>\n",
       "      <th>Description</th>\n",
       "      <th>geometry</th>\n",
       "    </tr>\n",
       "  </thead>\n",
       "  <tbody>\n",
       "    <tr>\n",
       "      <th>6</th>\n",
       "      <td>Untertunnelung</td>\n",
       "      <td>&lt;img src=\"https://mymaps.usercontent.google.co...</td>\n",
       "      <td>POINT Z (6.73984 51.09539 0)</td>\n",
       "    </tr>\n",
       "    <tr>\n",
       "      <th>7</th>\n",
       "      <td>Untertunnelung</td>\n",
       "      <td>&lt;img src=\"https://mymaps.usercontent.google.co...</td>\n",
       "      <td>POINT Z (6.72461 51.095 0)</td>\n",
       "    </tr>\n",
       "    <tr>\n",
       "      <th>8</th>\n",
       "      <td>Untertunnelung</td>\n",
       "      <td>&lt;img src=\"https://mymaps.usercontent.google.co...</td>\n",
       "      <td>POINT Z (6.72149 51.09492 0)</td>\n",
       "    </tr>\n",
       "    <tr>\n",
       "      <th>9</th>\n",
       "      <td>Untertunnelung</td>\n",
       "      <td>&lt;img src=\"https://mymaps.usercontent.google.co...</td>\n",
       "      <td>POINT Z (6.71884 51.09489 0)</td>\n",
       "    </tr>\n",
       "    <tr>\n",
       "      <th>10</th>\n",
       "      <td>Untertunnelung</td>\n",
       "      <td>&lt;img src=\"https://mymaps.usercontent.google.co...</td>\n",
       "      <td>POINT Z (6.70021 51.0923 0)</td>\n",
       "    </tr>\n",
       "    <tr>\n",
       "      <th>12</th>\n",
       "      <td>Untertunnelung</td>\n",
       "      <td>&lt;img src=\"https://mymaps.usercontent.google.co...</td>\n",
       "      <td>POINT Z (6.69067 51.08073 0)</td>\n",
       "    </tr>\n",
       "    <tr>\n",
       "      <th>14</th>\n",
       "      <td>Untertunnelung</td>\n",
       "      <td>&lt;img src=\"https://mymaps.usercontent.google.co...</td>\n",
       "      <td>POINT Z (6.8002 51.1113 0)</td>\n",
       "    </tr>\n",
       "    <tr>\n",
       "      <th>15</th>\n",
       "      <td>Untertunnelung</td>\n",
       "      <td>&lt;img src=\"https://mymaps.usercontent.google.co...</td>\n",
       "      <td>POINT Z (6.64382 51.06629 0)</td>\n",
       "    </tr>\n",
       "    <tr>\n",
       "      <th>17</th>\n",
       "      <td>Untertunnelung</td>\n",
       "      <td>&lt;img src=\"https://mymaps.usercontent.google.co...</td>\n",
       "      <td>POINT Z (6.86135 51.09593 0)</td>\n",
       "    </tr>\n",
       "    <tr>\n",
       "      <th>18</th>\n",
       "      <td>Untertunnelung</td>\n",
       "      <td>&lt;img src=\"https://mymaps.usercontent.google.co...</td>\n",
       "      <td>POINT Z (6.86292 51.10259 0)</td>\n",
       "    </tr>\n",
       "  </tbody>\n",
       "</table>\n",
       "</div>"
      ],
      "text/plain": [
       "              Name                                        Description  \\\n",
       "6   Untertunnelung  <img src=\"https://mymaps.usercontent.google.co...   \n",
       "7   Untertunnelung  <img src=\"https://mymaps.usercontent.google.co...   \n",
       "8   Untertunnelung  <img src=\"https://mymaps.usercontent.google.co...   \n",
       "9   Untertunnelung  <img src=\"https://mymaps.usercontent.google.co...   \n",
       "10  Untertunnelung  <img src=\"https://mymaps.usercontent.google.co...   \n",
       "12  Untertunnelung  <img src=\"https://mymaps.usercontent.google.co...   \n",
       "14  Untertunnelung  <img src=\"https://mymaps.usercontent.google.co...   \n",
       "15  Untertunnelung  <img src=\"https://mymaps.usercontent.google.co...   \n",
       "17  Untertunnelung  <img src=\"https://mymaps.usercontent.google.co...   \n",
       "18  Untertunnelung  <img src=\"https://mymaps.usercontent.google.co...   \n",
       "\n",
       "                        geometry  \n",
       "6   POINT Z (6.73984 51.09539 0)  \n",
       "7     POINT Z (6.72461 51.095 0)  \n",
       "8   POINT Z (6.72149 51.09492 0)  \n",
       "9   POINT Z (6.71884 51.09489 0)  \n",
       "10   POINT Z (6.70021 51.0923 0)  \n",
       "12  POINT Z (6.69067 51.08073 0)  \n",
       "14    POINT Z (6.8002 51.1113 0)  \n",
       "15  POINT Z (6.64382 51.06629 0)  \n",
       "17  POINT Z (6.86135 51.09593 0)  \n",
       "18  POINT Z (6.86292 51.10259 0)  "
      ]
     },
     "execution_count": 635,
     "metadata": {},
     "output_type": "execute_result"
    }
   ],
   "source": [
    "# load GeoPackage file 'transportleitungen_geom' into geodataframe gdf\n",
    "\n",
    "destruction_data = gpd.read_file(\"../data/Rheinwassertransportleitung.kml\")\n",
    "\n",
    "# polys = destructions[destructions.geom_type=='Polygon']\n",
    "points = destruction_data[destruction_data.geom_type=='Point']\n",
    "\n",
    "destructions_idx = points['Name'].str.contains('Zerstörung')\n",
    "destructions = points[destructions_idx]\n",
    "\n",
    "constructions_idx = ~destructions_idx\n",
    "constructions = points[constructions_idx]\n",
    "\n",
    "constructions\n",
    "# print to inspect the data\n",
    "# polys\n",
    "# points"
   ]
  },
  {
   "cell_type": "code",
   "execution_count": 636,
   "id": "6dd2d689",
   "metadata": {},
   "outputs": [
    {
     "data": {
      "text/plain": [
       "<folium.features.GeoJson at 0x797bcd0a2590>"
      ]
     },
     "execution_count": 636,
     "metadata": {},
     "output_type": "execute_result"
    }
   ],
   "source": [
    "folium.GeoJson(\n",
    "    destructions, \n",
    "    name = \"Zerstörungen\", # again, determine the name for the layer toggle\n",
    "    pane = \"pointsPane\",\n",
    "    marker=folium.Marker(\n",
    "        icon=folium.Icon(color='lightgreen', icon='burst', prefix='fa')\n",
    "    ),\n",
    "    tooltip = folium.GeoJsonTooltip(fields=['Name'], labels = False)\n",
    ").add_to(m)"
   ]
  },
  {
   "cell_type": "code",
   "execution_count": 637,
   "id": "26b12b03",
   "metadata": {},
   "outputs": [
    {
     "data": {
      "text/plain": [
       "<folium.features.GeoJson at 0x797bcd0a1000>"
      ]
     },
     "execution_count": 637,
     "metadata": {},
     "output_type": "execute_result"
    }
   ],
   "source": [
    "folium.GeoJson(\n",
    "    constructions, \n",
    "    name = \"Baumaßnahmen\", # again, determine the name for the layer toggle\n",
    "    pane = \"pointsPane\",\n",
    "    marker=folium.Marker(\n",
    "        icon=folium.Icon(color='lightred', icon='person-digging', prefix='fa')\n",
    "    ),\n",
    "    tooltip = folium.GeoJsonTooltip(fields=['Name'], labels = False)\n",
    ").add_to(m)"
   ]
  },
  {
   "cell_type": "code",
   "execution_count": 638,
   "id": "1f2bbb64",
   "metadata": {},
   "outputs": [
    {
     "data": {
      "text/html": [
       "<div>\n",
       "<style scoped>\n",
       "    .dataframe tbody tr th:only-of-type {\n",
       "        vertical-align: middle;\n",
       "    }\n",
       "\n",
       "    .dataframe tbody tr th {\n",
       "        vertical-align: top;\n",
       "    }\n",
       "\n",
       "    .dataframe thead th {\n",
       "        text-align: right;\n",
       "    }\n",
       "</style>\n",
       "<table border=\"1\" class=\"dataframe\">\n",
       "  <thead>\n",
       "    <tr style=\"text-align: right;\">\n",
       "      <th></th>\n",
       "      <th>name</th>\n",
       "      <th>geometry</th>\n",
       "    </tr>\n",
       "  </thead>\n",
       "  <tbody>\n",
       "    <tr>\n",
       "      <th>0</th>\n",
       "      <td>Pumpbauwerk am Ufer</td>\n",
       "      <td>MULTIPOLYGON (((6.85991 51.09692, 6.86044 51.0...</td>\n",
       "    </tr>\n",
       "  </tbody>\n",
       "</table>\n",
       "</div>"
      ],
      "text/plain": [
       "                  name                                           geometry\n",
       "0  Pumpbauwerk am Ufer  MULTIPOLYGON (((6.85991 51.09692, 6.86044 51.0..."
      ]
     },
     "execution_count": 638,
     "metadata": {},
     "output_type": "execute_result"
    }
   ],
   "source": [
    "pumpwerk = gpd.read_file(\"../data/Pumpbauwerk_Ufer.gpkg\")\n",
    "pumpwerk"
   ]
  },
  {
   "cell_type": "code",
   "execution_count": 639,
   "id": "9c6fc81d",
   "metadata": {},
   "outputs": [
    {
     "data": {
      "text/html": [
       "<div>\n",
       "<style scoped>\n",
       "    .dataframe tbody tr th:only-of-type {\n",
       "        vertical-align: middle;\n",
       "    }\n",
       "\n",
       "    .dataframe tbody tr th {\n",
       "        vertical-align: top;\n",
       "    }\n",
       "\n",
       "    .dataframe thead th {\n",
       "        text-align: right;\n",
       "    }\n",
       "</style>\n",
       "<table border=\"1\" class=\"dataframe\">\n",
       "  <thead>\n",
       "    <tr style=\"text-align: right;\">\n",
       "      <th></th>\n",
       "      <th>name</th>\n",
       "      <th>geometry</th>\n",
       "    </tr>\n",
       "  </thead>\n",
       "  <tbody>\n",
       "    <tr>\n",
       "      <th>0</th>\n",
       "      <td>Verteilbauwerk</td>\n",
       "      <td>MULTIPOLYGON (((6.62035 51.05626, 6.62112 51.0...</td>\n",
       "    </tr>\n",
       "  </tbody>\n",
       "</table>\n",
       "</div>"
      ],
      "text/plain": [
       "             name                                           geometry\n",
       "0  Verteilbauwerk  MULTIPOLYGON (((6.62035 51.05626, 6.62112 51.0..."
      ]
     },
     "execution_count": 639,
     "metadata": {},
     "output_type": "execute_result"
    }
   ],
   "source": [
    "verteilwerk = gpd.read_file(\"../data/Verteilbauwerk.gpkg\")\n",
    "verteilwerk"
   ]
  },
  {
   "cell_type": "code",
   "execution_count": 640,
   "id": "a73fd14d",
   "metadata": {},
   "outputs": [
    {
     "data": {
      "text/plain": [
       "<folium.features.GeoJson at 0x797bcd1d16c0>"
      ]
     },
     "execution_count": 640,
     "metadata": {},
     "output_type": "execute_result"
    }
   ],
   "source": [
    "folium.GeoJson(\n",
    "    pumpwerk, \n",
    "    name = \"Pumpbauwerk\", # again, determine the name for the layer toggle\n",
    "    pane = \"linesPane\",\n",
    "    style_function = lambda feature: {\n",
    "        'color': 'black',\n",
    "        'weight': 1,\n",
    "        'fillColor': 'black',\n",
    "        'fillOpacity': 1         \n",
    "    },\n",
    "    tooltip = folium.GeoJsonTooltip(fields=['name'], labels = False)\n",
    ").add_to(m)"
   ]
  },
  {
   "cell_type": "code",
   "execution_count": 641,
   "id": "dc9eb497",
   "metadata": {},
   "outputs": [
    {
     "data": {
      "text/plain": [
       "<folium.features.GeoJson at 0x797bcd0a2f20>"
      ]
     },
     "execution_count": 641,
     "metadata": {},
     "output_type": "execute_result"
    }
   ],
   "source": [
    "folium.GeoJson(\n",
    "    verteilwerk, \n",
    "    name = \"Verteilbauwerk\", # again, determine the name for the layer toggle\n",
    "    pane = \"linesPane\",\n",
    "    style_function = lambda feature: {\n",
    "        'color': 'black',\n",
    "        'weight': 1,\n",
    "        'fillColor': 'black',\n",
    "        'fillOpacity': 1\n",
    "    },\n",
    "    tooltip = folium.GeoJsonTooltip(fields=['name'], labels = False)\n",
    ").add_to(m)"
   ]
  },
  {
   "cell_type": "code",
   "execution_count": 642,
   "id": "ac77b063",
   "metadata": {},
   "outputs": [
    {
     "name": "stdout",
     "output_type": "stream",
     "text": [
      "Your map should have been opened in your browser automatically.\n",
      "Press ctrl+c to return.\n"
     ]
    },
    {
     "name": "stderr",
     "output_type": "stream",
     "text": [
      "Error: Failed to open Wayland display, fallback to X11. WAYLAND_DISPLAY='wayland-0' DISPLAY=':0'\n"
     ]
    }
   ],
   "source": [
    "# Add layer control to toggle layers\n",
    "folium.LayerControl().add_to(m)\n",
    "#m\n",
    "m.show_in_browser()"
   ]
  },
  {
   "cell_type": "code",
   "execution_count": 643,
   "id": "2e6de312-754a-475f-84a8-f55f9b2b346b",
   "metadata": {},
   "outputs": [],
   "source": [
    "# save the map as hmtl\n",
    "m.save('pipe_map.html')"
   ]
  },
  {
   "cell_type": "markdown",
   "id": "bca0fd71-37f8-4aaa-9594-fd3cde3efaeb",
   "metadata": {},
   "source": [
    "---"
   ]
  }
 ],
 "metadata": {
  "kernelspec": {
   "display_name": "Python 3 (ipykernel)",
   "language": "python",
   "name": "python3"
  },
  "language_info": {
   "codemirror_mode": {
    "name": "ipython",
    "version": 3
   },
   "file_extension": ".py",
   "mimetype": "text/x-python",
   "name": "python",
   "nbconvert_exporter": "python",
   "pygments_lexer": "ipython3",
   "version": "3.10.12"
  }
 },
 "nbformat": 4,
 "nbformat_minor": 5
}
