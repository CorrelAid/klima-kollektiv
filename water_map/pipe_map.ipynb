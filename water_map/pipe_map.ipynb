{
 "cells": [
  {
   "cell_type": "markdown",
   "id": "7b8ebb6a-6eb7-441f-a009-969b8841b6b1",
   "metadata": {},
   "source": [
    "# CorrelAid for Klima*Kollektiv Karte der Transportleitung, Rohdungstrassen und Zerrstörungspunkte entlang der Trasse\n",
    "Sep 27, 2024\n",
    "\n",
    "by Tim Appelhans"
   ]
  },
  {
   "cell_type": "code",
   "execution_count": 767,
   "id": "96438539-3e3c-43ae-9430-fdefe6f17ff9",
   "metadata": {
    "collapsed": true,
    "jupyter": {
     "outputs_hidden": true
    },
    "tags": []
   },
   "outputs": [],
   "source": [
    "# !pip install geopandas\n",
    "# !pip install folium\n",
    "# !pip install requests"
   ]
  },
  {
   "cell_type": "code",
   "execution_count": 768,
   "id": "2ac28f9a-638f-4ec5-bdac-acd4ccc7e4f1",
   "metadata": {},
   "outputs": [],
   "source": [
    "import pandas as pd\n",
    "import geopandas as gpd\n",
    "import folium\n",
    "from shapely.geometry import Polygon, MultiPolygon, MultiLineString\n",
    "import json"
   ]
  },
  {
   "cell_type": "code",
   "execution_count": 769,
   "id": "c18fcbd4-fc25-4fb2-b321-4611ebce3433",
   "metadata": {
    "tags": []
   },
   "outputs": [
    {
     "data": {
      "text/plain": [
       "<folium.map.CustomPane at 0x7ff31a75e740>"
      ]
     },
     "execution_count": 769,
     "metadata": {},
     "output_type": "execute_result"
    }
   ],
   "source": [
    "# ---- Visualization ----\n",
    "\n",
    "# Create a base map\n",
    "m = folium.Map(location = [51.0, 6.5], zoom_start = 10,  min_zoom = 8)\n",
    "\n",
    "# Set up custome map panes for points, lines, polygons\n",
    "folium.map.CustomPane(\"pointsPane\", z_index = 330).add_to(m)\n",
    "folium.map.CustomPane(\"linesPane\", z_index = 320).add_to(m)\n",
    "folium.map.CustomPane(\"polygonsPane\", z_index = 310).add_to(m)\n"
   ]
  },
  {
   "cell_type": "markdown",
   "id": "a1e9e1a2",
   "metadata": {},
   "source": [
    "Add `Esri.WorldImagery` tile layer (see [Leaflet Provider Demo](https://leaflet-extras.github.io/leaflet-providers/preview/) for a quick preview of various basemaps)."
   ]
  },
  {
   "cell_type": "code",
   "execution_count": 770,
   "id": "d32a58aa",
   "metadata": {},
   "outputs": [
    {
     "data": {
      "text/plain": [
       "<folium.raster_layers.TileLayer at 0x7ff31a75d540>"
      ]
     },
     "execution_count": 770,
     "metadata": {},
     "output_type": "execute_result"
    }
   ],
   "source": [
    "# add Esri World Imagery tile layer\n",
    "folium.TileLayer(\n",
    "    tiles='https://server.arcgisonline.com/ArcGIS/rest/services/World_Imagery/MapServer/tile/{z}/{y}/{x}',\n",
    "    attr='Esri',\n",
    "    name='Esri.WorldImagery',\n",
    "    overlay=False,\n",
    "    control=True,\n",
    "    min_zoom = 8,\n",
    "    show=False # hide layer when opening the map\n",
    ").add_to(m)\n",
    "\n",
    "# add grey canvas tile layer\n",
    "folium.TileLayer(\n",
    "    tiles='https://{s}.basemaps.cartocdn.com/light_all/{z}/{x}/{y}{r}.png',\n",
    "    attr='Carto',\n",
    "    name='Grey Canvas',\n",
    "    overlay=False,\n",
    "    control=True,\n",
    "    min_zoom = 8,\n",
    "    show=True # hide layer when opening the map\n",
    ").add_to(m)\n",
    "\n"
   ]
  },
  {
   "cell_type": "code",
   "execution_count": 771,
   "id": "bf760969",
   "metadata": {},
   "outputs": [
    {
     "data": {
      "text/html": [
       "<div>\n",
       "<style scoped>\n",
       "    .dataframe tbody tr th:only-of-type {\n",
       "        vertical-align: middle;\n",
       "    }\n",
       "\n",
       "    .dataframe tbody tr th {\n",
       "        vertical-align: top;\n",
       "    }\n",
       "\n",
       "    .dataframe thead th {\n",
       "        text-align: right;\n",
       "    }\n",
       "</style>\n",
       "<table border=\"1\" class=\"dataframe\">\n",
       "  <thead>\n",
       "    <tr style=\"text-align: right;\">\n",
       "      <th></th>\n",
       "      <th>id</th>\n",
       "      <th>geometry</th>\n",
       "    </tr>\n",
       "  </thead>\n",
       "  <tbody>\n",
       "    <tr>\n",
       "      <th>0</th>\n",
       "      <td>0</td>\n",
       "      <td>POLYGON ((6.49395 50.88401, 6.48964 50.88573, ...</td>\n",
       "    </tr>\n",
       "  </tbody>\n",
       "</table>\n",
       "</div>"
      ],
      "text/plain": [
       "   id                                           geometry\n",
       "0   0  POLYGON ((6.49395 50.88401, 6.48964 50.88573, ..."
      ]
     },
     "execution_count": 771,
     "metadata": {},
     "output_type": "execute_result"
    }
   ],
   "source": [
    "hambacher_see = gpd.read_file(\"/home/tim/Downloads/hambachersee_gp.gpkg\", layer = 'hambacher_see_wasser')\n",
    "hambacher_see = hambacher_see.set_geometry([Polygon(hambacher_see.get_coordinates())])\n",
    "hambacher_see\n",
    "#hambacher_see.geometry = hambacher_see.geometry.apply(lambda x: Polygon(x.get_coordinates()))\n"
   ]
  },
  {
   "cell_type": "code",
   "execution_count": 772,
   "id": "16cc42ae",
   "metadata": {},
   "outputs": [],
   "source": [
    "garzweiler_see = gpd.read_file(\"/home/tim/Downloads/garzweilersee_wasser.gpkg\", layer = 'garzweilersee_wasser')\n",
    "garzweiler_see = garzweiler_see.set_geometry([Polygon(garzweiler_see.get_coordinates())])\n",
    "inder_see = gpd.read_file(\"/home/tim/Downloads/indersee_gp.gpkg\", layer = 'inder_see_wasser')\n",
    "inder_see = inder_see.set_geometry([Polygon(inder_see.get_coordinates())])"
   ]
  },
  {
   "cell_type": "code",
   "execution_count": 773,
   "id": "4748ff37",
   "metadata": {},
   "outputs": [
    {
     "data": {
      "text/plain": [
       "<folium.features.GeoJson at 0x7ff31a840490>"
      ]
     },
     "execution_count": 773,
     "metadata": {},
     "output_type": "execute_result"
    }
   ],
   "source": [
    "folium.GeoJson(\n",
    "    hambacher_see, \n",
    "    name=\"Hambacher See\", \n",
    "    pane = \"polygonsPane\",\n",
    "    style_function = lambda feature: {\n",
    "        'color': '#4e4eff',\n",
    "        'fillColor': \"#4e4eff\",\n",
    "        'fillOpacity': 0.8,\n",
    "        'fill': True,\n",
    "        'weight': 0\n",
    "    },\n",
    "    tooltip = \"Hambacher See\"\n",
    ").add_to(m)\n",
    "\n",
    "folium.GeoJson(\n",
    "    garzweiler_see, \n",
    "    name=\"Garzweiler See\", \n",
    "    pane = \"polygonsPane\",\n",
    "    style_function = lambda feature: {\n",
    "        'color': '#4e4eff',\n",
    "        'fillColor': \"#4e4eff\",\n",
    "        'fillOpacity': 0.8,\n",
    "        'fill': True,\n",
    "        'weight': 0\n",
    "    },\n",
    "    tooltip = \"Garzweiler See\"\n",
    ").add_to(m)\n",
    "\n",
    "folium.GeoJson(\n",
    "    inder_see, \n",
    "    name=\"Inder See\", \n",
    "    pane = \"polygonsPane\",\n",
    "    style_function = lambda feature: {\n",
    "        'color': '#4e4eff',\n",
    "        'fillColor': \"#4e4eff\",\n",
    "        'fillOpacity': 0.8,\n",
    "        'fill': True,\n",
    "        'weight': 0\n",
    "    },\n",
    "    tooltip = \"Inder See\"\n",
    ").add_to(m)"
   ]
  },
  {
   "cell_type": "code",
   "execution_count": 774,
   "id": "82f05450-21d6-4175-9bd5-b72158833767",
   "metadata": {},
   "outputs": [
    {
     "data": {
      "text/html": [
       "<div>\n",
       "<style scoped>\n",
       "    .dataframe tbody tr th:only-of-type {\n",
       "        vertical-align: middle;\n",
       "    }\n",
       "\n",
       "    .dataframe tbody tr th {\n",
       "        vertical-align: top;\n",
       "    }\n",
       "\n",
       "    .dataframe thead th {\n",
       "        text-align: right;\n",
       "    }\n",
       "</style>\n",
       "<table border=\"1\" class=\"dataframe\">\n",
       "  <thead>\n",
       "    <tr style=\"text-align: right;\">\n",
       "      <th></th>\n",
       "      <th>id</th>\n",
       "      <th>Name</th>\n",
       "      <th>geometry</th>\n",
       "    </tr>\n",
       "  </thead>\n",
       "  <tbody>\n",
       "    <tr>\n",
       "      <th>0</th>\n",
       "      <td>0</td>\n",
       "      <td>Transportleitung West</td>\n",
       "      <td>MULTILINESTRING ((350531.177 5662445.558, 3501...</td>\n",
       "    </tr>\n",
       "    <tr>\n",
       "      <th>1</th>\n",
       "      <td>1</td>\n",
       "      <td>Transportleitung Süd</td>\n",
       "      <td>MULTILINESTRING ((333215.541 5658810.732, 3341...</td>\n",
       "    </tr>\n",
       "  </tbody>\n",
       "</table>\n",
       "</div>"
      ],
      "text/plain": [
       "   id                   Name  \\\n",
       "0   0  Transportleitung West   \n",
       "1   1   Transportleitung Süd   \n",
       "\n",
       "                                            geometry  \n",
       "0  MULTILINESTRING ((350531.177 5662445.558, 3501...  \n",
       "1  MULTILINESTRING ((333215.541 5658810.732, 3341...  "
      ]
     },
     "execution_count": 774,
     "metadata": {},
     "output_type": "execute_result"
    }
   ],
   "source": [
    "# load GeoPackage file 'transportleitungen_geom' into geodataframe gdf\n",
    "pipelines = gpd.read_file(\"transportleitung_geom.gpkg\")\n",
    "\n",
    "# print to inspect the data\n",
    "pipelines.Name = [\"Transportleitung West\", \"Transportleitung Süd\"]\n",
    "pipelines"
   ]
  },
  {
   "cell_type": "code",
   "execution_count": 775,
   "id": "ea755203-b2d5-43a1-a009-7fb2445f49cc",
   "metadata": {
    "scrolled": true
   },
   "outputs": [
    {
     "data": {
      "text/plain": [
       "<Geographic 2D CRS: EPSG:4326>\n",
       "Name: WGS 84\n",
       "Axis Info [ellipsoidal]:\n",
       "- Lat[north]: Geodetic latitude (degree)\n",
       "- Lon[east]: Geodetic longitude (degree)\n",
       "Area of Use:\n",
       "- name: World.\n",
       "- bounds: (-180.0, -90.0, 180.0, 90.0)\n",
       "Datum: World Geodetic System 1984 ensemble\n",
       "- Ellipsoid: WGS 84\n",
       "- Prime Meridian: Greenwich"
      ]
     },
     "execution_count": 775,
     "metadata": {},
     "output_type": "execute_result"
    }
   ],
   "source": [
    "pipelines = pipelines.to_crs(\"EPSG:4326\") # change CRS to the same as in 'consumer'\n",
    "pipelines.crs"
   ]
  },
  {
   "cell_type": "code",
   "execution_count": 776,
   "id": "7ec67a82-6fd8-49e0-9075-a3b5371df93d",
   "metadata": {},
   "outputs": [
    {
     "data": {
      "text/plain": [
       "<folium.features.GeoJson at 0x7ff31a7042e0>"
      ]
     },
     "execution_count": 776,
     "metadata": {},
     "output_type": "execute_result"
    }
   ],
   "source": [
    "\n",
    "# Add the GeoDataFrame to the map\n",
    "folium.GeoJson(\n",
    "    pipelines, \n",
    "    name=\"Water pipelines\", # again, determine the name for the layer toggle\n",
    "    pane = \"linesPane\",\n",
    "    style_function = lambda feature: {\n",
    "        'color': '#707070' if feature['properties']['Name'] == 'transportleitung_sued' else '#3f3f3f',\n",
    "        'weight': 5\n",
    "    },\n",
    "    tooltip = folium.GeoJsonTooltip(fields=['Name'], labels = False)\n",
    ").add_to(m)\n"
   ]
  },
  {
   "cell_type": "code",
   "execution_count": 777,
   "id": "28d9c213",
   "metadata": {},
   "outputs": [
    {
     "data": {
      "text/html": [
       "<div>\n",
       "<style scoped>\n",
       "    .dataframe tbody tr th:only-of-type {\n",
       "        vertical-align: middle;\n",
       "    }\n",
       "\n",
       "    .dataframe tbody tr th {\n",
       "        vertical-align: top;\n",
       "    }\n",
       "\n",
       "    .dataframe thead th {\n",
       "        text-align: right;\n",
       "    }\n",
       "</style>\n",
       "<table border=\"1\" class=\"dataframe\">\n",
       "  <thead>\n",
       "    <tr style=\"text-align: right;\">\n",
       "      <th></th>\n",
       "      <th>pkuid</th>\n",
       "      <th>geometry</th>\n",
       "    </tr>\n",
       "  </thead>\n",
       "  <tbody>\n",
       "    <tr>\n",
       "      <th>0</th>\n",
       "      <td>1</td>\n",
       "      <td>POLYGON ((6.86325 51.09179, 6.86972 51.09416, ...</td>\n",
       "    </tr>\n",
       "  </tbody>\n",
       "</table>\n",
       "</div>"
      ],
      "text/plain": [
       "   pkuid                                           geometry\n",
       "0      1  POLYGON ((6.86325 51.09179, 6.86972 51.09416, ..."
      ]
     },
     "execution_count": 777,
     "metadata": {},
     "output_type": "execute_result"
    }
   ],
   "source": [
    "# load GeoPackage file for clearing\n",
    "clearing = gpd.read_file(\"/home/tim/Downloads/rodungstrasse.gpkg\")\n",
    "\n",
    "# print to inspect the data\n",
    "clearing"
   ]
  },
  {
   "cell_type": "code",
   "execution_count": 778,
   "id": "925c64d9",
   "metadata": {},
   "outputs": [
    {
     "data": {
      "text/plain": [
       "<folium.features.GeoJson at 0x7ff31a706d10>"
      ]
     },
     "execution_count": 778,
     "metadata": {},
     "output_type": "execute_result"
    }
   ],
   "source": [
    "# Add the GeoDataFrame to the map\n",
    "folium.GeoJson(\n",
    "    data = clearing, \n",
    "    name = \"Clearing\", # again, determine the name for the layer toggle\n",
    "    pane = \"polygonsPane\",\n",
    "    style_function = lambda feature: {\n",
    "        'color': 'brown',\n",
    "        'weight': 1,\n",
    "        'fillColor': 'brown',\n",
    "        'fillOpacity': 0.3         \n",
    "    },tooltip = \"Rodungstrasse\"\n",
    ").add_to(m)"
   ]
  },
  {
   "cell_type": "code",
   "execution_count": 779,
   "id": "5d52acef",
   "metadata": {},
   "outputs": [
    {
     "data": {
      "text/html": [
       "<div>\n",
       "<style scoped>\n",
       "    .dataframe tbody tr th:only-of-type {\n",
       "        vertical-align: middle;\n",
       "    }\n",
       "\n",
       "    .dataframe tbody tr th {\n",
       "        vertical-align: top;\n",
       "    }\n",
       "\n",
       "    .dataframe thead th {\n",
       "        text-align: right;\n",
       "    }\n",
       "</style>\n",
       "<table border=\"1\" class=\"dataframe\">\n",
       "  <thead>\n",
       "    <tr style=\"text-align: right;\">\n",
       "      <th></th>\n",
       "      <th>Name</th>\n",
       "      <th>Description</th>\n",
       "      <th>geometry</th>\n",
       "    </tr>\n",
       "  </thead>\n",
       "  <tbody>\n",
       "    <tr>\n",
       "      <th>0</th>\n",
       "      <td>Zerstörung von Wald- und Gehölzbiotopen</td>\n",
       "      <td>&lt;img src=\"https://mymaps.usercontent.google.co...</td>\n",
       "      <td>POINT Z (6.8514 51.11003 0)</td>\n",
       "    </tr>\n",
       "    <tr>\n",
       "      <th>1</th>\n",
       "      <td>Zerstörung von von Geschützten Landschaftsbest...</td>\n",
       "      <td>&lt;img src=\"https://mymaps.usercontent.google.co...</td>\n",
       "      <td>POINT Z (6.82848 51.10968 0)</td>\n",
       "    </tr>\n",
       "    <tr>\n",
       "      <th>2</th>\n",
       "      <td>Zerstörung von von Geschützten Landschaftsbest...</td>\n",
       "      <td>&lt;img src=\"https://mymaps.usercontent.google.co...</td>\n",
       "      <td>POINT Z (6.82717 51.11007 0)</td>\n",
       "    </tr>\n",
       "    <tr>\n",
       "      <th>3</th>\n",
       "      <td>Zerstörung</td>\n",
       "      <td>&lt;img src=\"https://mymaps.usercontent.google.co...</td>\n",
       "      <td>POINT Z (6.83104 51.10846 0)</td>\n",
       "    </tr>\n",
       "    <tr>\n",
       "      <th>4</th>\n",
       "      <td>Zerstörung von Wald- und Gehölzbiotopen (K3)</td>\n",
       "      <td>&lt;img src=\"https://mymaps.usercontent.google.co...</td>\n",
       "      <td>POINT Z (6.80947 51.11108 0)</td>\n",
       "    </tr>\n",
       "    <tr>\n",
       "      <th>5</th>\n",
       "      <td>Zerstörung von Wald- und Gehölzbiotopen (K 4)</td>\n",
       "      <td>&lt;img src=\"https://mymaps.usercontent.google.co...</td>\n",
       "      <td>POINT Z (6.76917 51.10389 0)</td>\n",
       "    </tr>\n",
       "    <tr>\n",
       "      <th>6</th>\n",
       "      <td>Untertunnelung</td>\n",
       "      <td>&lt;img src=\"https://mymaps.usercontent.google.co...</td>\n",
       "      <td>POINT Z (6.73984 51.09539 0)</td>\n",
       "    </tr>\n",
       "    <tr>\n",
       "      <th>7</th>\n",
       "      <td>Untertunnelung</td>\n",
       "      <td>&lt;img src=\"https://mymaps.usercontent.google.co...</td>\n",
       "      <td>POINT Z (6.72461 51.095 0)</td>\n",
       "    </tr>\n",
       "    <tr>\n",
       "      <th>8</th>\n",
       "      <td>Untertunnelung</td>\n",
       "      <td>&lt;img src=\"https://mymaps.usercontent.google.co...</td>\n",
       "      <td>POINT Z (6.72149 51.09492 0)</td>\n",
       "    </tr>\n",
       "    <tr>\n",
       "      <th>9</th>\n",
       "      <td>Untertunnelung</td>\n",
       "      <td>&lt;img src=\"https://mymaps.usercontent.google.co...</td>\n",
       "      <td>POINT Z (6.71884 51.09489 0)</td>\n",
       "    </tr>\n",
       "    <tr>\n",
       "      <th>10</th>\n",
       "      <td>Untertunnelung</td>\n",
       "      <td>&lt;img src=\"https://mymaps.usercontent.google.co...</td>\n",
       "      <td>POINT Z (6.70021 51.0923 0)</td>\n",
       "    </tr>\n",
       "    <tr>\n",
       "      <th>11</th>\n",
       "      <td>Zerstörung von Wald- und Gehölzbiotopen (K3)</td>\n",
       "      <td>&lt;img src=\"https://mymaps.usercontent.google.co...</td>\n",
       "      <td>POINT Z (6.69227 51.08137 0)</td>\n",
       "    </tr>\n",
       "    <tr>\n",
       "      <th>12</th>\n",
       "      <td>Untertunnelung</td>\n",
       "      <td>&lt;img src=\"https://mymaps.usercontent.google.co...</td>\n",
       "      <td>POINT Z (6.69067 51.08073 0)</td>\n",
       "    </tr>\n",
       "    <tr>\n",
       "      <th>13</th>\n",
       "      <td>Zerstörung von Wald- und Gehölzstrukutren (K3)</td>\n",
       "      <td>&lt;img src=\"https://mymaps.usercontent.google.co...</td>\n",
       "      <td>POINT Z (6.67988 51.08022 0)</td>\n",
       "    </tr>\n",
       "    <tr>\n",
       "      <th>14</th>\n",
       "      <td>Untertunnelung</td>\n",
       "      <td>&lt;img src=\"https://mymaps.usercontent.google.co...</td>\n",
       "      <td>POINT Z (6.8002 51.1113 0)</td>\n",
       "    </tr>\n",
       "    <tr>\n",
       "      <th>15</th>\n",
       "      <td>Untertunnelung</td>\n",
       "      <td>&lt;img src=\"https://mymaps.usercontent.google.co...</td>\n",
       "      <td>POINT Z (6.64382 51.06629 0)</td>\n",
       "    </tr>\n",
       "    <tr>\n",
       "      <th>17</th>\n",
       "      <td>Untertunnelung</td>\n",
       "      <td>&lt;img src=\"https://mymaps.usercontent.google.co...</td>\n",
       "      <td>POINT Z (6.86135 51.09593 0)</td>\n",
       "    </tr>\n",
       "    <tr>\n",
       "      <th>18</th>\n",
       "      <td>Untertunnelung</td>\n",
       "      <td>&lt;img src=\"https://mymaps.usercontent.google.co...</td>\n",
       "      <td>POINT Z (6.86292 51.10259 0)</td>\n",
       "    </tr>\n",
       "    <tr>\n",
       "      <th>19</th>\n",
       "      <td>Zerstörung von Baumgruppe</td>\n",
       "      <td>&lt;img src=\"https://mymaps.usercontent.google.co...</td>\n",
       "      <td>POINT Z (6.64895 51.02831 0)</td>\n",
       "    </tr>\n",
       "    <tr>\n",
       "      <th>20</th>\n",
       "      <td>Zerstörung von Baumgruppe</td>\n",
       "      <td>&lt;img src=\"https://mymaps.usercontent.google.co...</td>\n",
       "      <td>POINT Z (6.6181 51.00926 0)</td>\n",
       "    </tr>\n",
       "    <tr>\n",
       "      <th>21</th>\n",
       "      <td>Zerstörung von Baumgruppe</td>\n",
       "      <td>&lt;img src=\"https://mymaps.usercontent.google.co...</td>\n",
       "      <td>POINT Z (6.61766 50.99319 0)</td>\n",
       "    </tr>\n",
       "    <tr>\n",
       "      <th>22</th>\n",
       "      <td>Zerstörung von Hecke</td>\n",
       "      <td>&lt;img src=\"https://mymaps.usercontent.google.co...</td>\n",
       "      <td>POINT Z (6.60987 50.98524 0)</td>\n",
       "    </tr>\n",
       "    <tr>\n",
       "      <th>23</th>\n",
       "      <td>Zerstörung von Baumgruppe</td>\n",
       "      <td>&lt;img src=\"https://mymaps.usercontent.google.co...</td>\n",
       "      <td>POINT Z (6.60653 50.9842 0)</td>\n",
       "    </tr>\n",
       "    <tr>\n",
       "      <th>24</th>\n",
       "      <td>Zerstörung von Gehölzstreifen</td>\n",
       "      <td>&lt;img src=\"https://mymaps.usercontent.google.co...</td>\n",
       "      <td>POINT Z (6.59234 50.97963 0)</td>\n",
       "    </tr>\n",
       "    <tr>\n",
       "      <th>25</th>\n",
       "      <td>Zerstörung von Ufergehölz</td>\n",
       "      <td>&lt;img src=\"https://mymaps.usercontent.google.co...</td>\n",
       "      <td>POINT Z (6.57993 50.97361 0)</td>\n",
       "    </tr>\n",
       "    <tr>\n",
       "      <th>26</th>\n",
       "      <td>Zerstörung von Baumgruppe</td>\n",
       "      <td>&lt;img src=\"https://mymaps.usercontent.google.co...</td>\n",
       "      <td>POINT Z (6.56898 50.96768 0)</td>\n",
       "    </tr>\n",
       "  </tbody>\n",
       "</table>\n",
       "</div>"
      ],
      "text/plain": [
       "                                                 Name  \\\n",
       "0             Zerstörung von Wald- und Gehölzbiotopen   \n",
       "1   Zerstörung von von Geschützten Landschaftsbest...   \n",
       "2   Zerstörung von von Geschützten Landschaftsbest...   \n",
       "3                                          Zerstörung   \n",
       "4        Zerstörung von Wald- und Gehölzbiotopen (K3)   \n",
       "5       Zerstörung von Wald- und Gehölzbiotopen (K 4)   \n",
       "6                                      Untertunnelung   \n",
       "7                                      Untertunnelung   \n",
       "8                                      Untertunnelung   \n",
       "9                                      Untertunnelung   \n",
       "10                                     Untertunnelung   \n",
       "11       Zerstörung von Wald- und Gehölzbiotopen (K3)   \n",
       "12                                     Untertunnelung   \n",
       "13     Zerstörung von Wald- und Gehölzstrukutren (K3)   \n",
       "14                                     Untertunnelung   \n",
       "15                                     Untertunnelung   \n",
       "17                                     Untertunnelung   \n",
       "18                                     Untertunnelung   \n",
       "19                          Zerstörung von Baumgruppe   \n",
       "20                          Zerstörung von Baumgruppe   \n",
       "21                          Zerstörung von Baumgruppe   \n",
       "22                               Zerstörung von Hecke   \n",
       "23                          Zerstörung von Baumgruppe   \n",
       "24                      Zerstörung von Gehölzstreifen   \n",
       "25                          Zerstörung von Ufergehölz   \n",
       "26                          Zerstörung von Baumgruppe   \n",
       "\n",
       "                                          Description  \\\n",
       "0   <img src=\"https://mymaps.usercontent.google.co...   \n",
       "1   <img src=\"https://mymaps.usercontent.google.co...   \n",
       "2   <img src=\"https://mymaps.usercontent.google.co...   \n",
       "3   <img src=\"https://mymaps.usercontent.google.co...   \n",
       "4   <img src=\"https://mymaps.usercontent.google.co...   \n",
       "5   <img src=\"https://mymaps.usercontent.google.co...   \n",
       "6   <img src=\"https://mymaps.usercontent.google.co...   \n",
       "7   <img src=\"https://mymaps.usercontent.google.co...   \n",
       "8   <img src=\"https://mymaps.usercontent.google.co...   \n",
       "9   <img src=\"https://mymaps.usercontent.google.co...   \n",
       "10  <img src=\"https://mymaps.usercontent.google.co...   \n",
       "11  <img src=\"https://mymaps.usercontent.google.co...   \n",
       "12  <img src=\"https://mymaps.usercontent.google.co...   \n",
       "13  <img src=\"https://mymaps.usercontent.google.co...   \n",
       "14  <img src=\"https://mymaps.usercontent.google.co...   \n",
       "15  <img src=\"https://mymaps.usercontent.google.co...   \n",
       "17  <img src=\"https://mymaps.usercontent.google.co...   \n",
       "18  <img src=\"https://mymaps.usercontent.google.co...   \n",
       "19  <img src=\"https://mymaps.usercontent.google.co...   \n",
       "20  <img src=\"https://mymaps.usercontent.google.co...   \n",
       "21  <img src=\"https://mymaps.usercontent.google.co...   \n",
       "22  <img src=\"https://mymaps.usercontent.google.co...   \n",
       "23  <img src=\"https://mymaps.usercontent.google.co...   \n",
       "24  <img src=\"https://mymaps.usercontent.google.co...   \n",
       "25  <img src=\"https://mymaps.usercontent.google.co...   \n",
       "26  <img src=\"https://mymaps.usercontent.google.co...   \n",
       "\n",
       "                        geometry  \n",
       "0    POINT Z (6.8514 51.11003 0)  \n",
       "1   POINT Z (6.82848 51.10968 0)  \n",
       "2   POINT Z (6.82717 51.11007 0)  \n",
       "3   POINT Z (6.83104 51.10846 0)  \n",
       "4   POINT Z (6.80947 51.11108 0)  \n",
       "5   POINT Z (6.76917 51.10389 0)  \n",
       "6   POINT Z (6.73984 51.09539 0)  \n",
       "7     POINT Z (6.72461 51.095 0)  \n",
       "8   POINT Z (6.72149 51.09492 0)  \n",
       "9   POINT Z (6.71884 51.09489 0)  \n",
       "10   POINT Z (6.70021 51.0923 0)  \n",
       "11  POINT Z (6.69227 51.08137 0)  \n",
       "12  POINT Z (6.69067 51.08073 0)  \n",
       "13  POINT Z (6.67988 51.08022 0)  \n",
       "14    POINT Z (6.8002 51.1113 0)  \n",
       "15  POINT Z (6.64382 51.06629 0)  \n",
       "17  POINT Z (6.86135 51.09593 0)  \n",
       "18  POINT Z (6.86292 51.10259 0)  \n",
       "19  POINT Z (6.64895 51.02831 0)  \n",
       "20   POINT Z (6.6181 51.00926 0)  \n",
       "21  POINT Z (6.61766 50.99319 0)  \n",
       "22  POINT Z (6.60987 50.98524 0)  \n",
       "23   POINT Z (6.60653 50.9842 0)  \n",
       "24  POINT Z (6.59234 50.97963 0)  \n",
       "25  POINT Z (6.57993 50.97361 0)  \n",
       "26  POINT Z (6.56898 50.96768 0)  "
      ]
     },
     "execution_count": 779,
     "metadata": {},
     "output_type": "execute_result"
    }
   ],
   "source": [
    "# load GeoPackage file 'transportleitungen_geom' into geodataframe gdf\n",
    "destructions = gpd.read_file(\"/home/tim/Downloads/Rheinwassertransportleitung.kml\")\n",
    "\n",
    "polys = destructions[destructions.geom_type=='Polygon']\n",
    "points = destructions[destructions.geom_type=='Point']\n",
    "\n",
    "# print to inspect the data\n",
    "polys\n",
    "points"
   ]
  },
  {
   "cell_type": "code",
   "execution_count": 780,
   "id": "6dd2d689",
   "metadata": {},
   "outputs": [
    {
     "data": {
      "text/plain": [
       "<folium.features.GeoJson at 0x7ff31a707220>"
      ]
     },
     "execution_count": 780,
     "metadata": {},
     "output_type": "execute_result"
    }
   ],
   "source": [
    "folium.GeoJson(\n",
    "    points, \n",
    "    name = \"Destructions\", # again, determine the name for the layer toggle\n",
    "    pane = \"pointsPane\",\n",
    "    marker=folium.Marker(\n",
    "        icon=folium.Icon(color='lightred', icon='person-digging', prefix='fa')\n",
    "    ),\n",
    "    tooltip = folium.GeoJsonTooltip(fields=['Name'], labels = False)\n",
    ").add_to(m)"
   ]
  },
  {
   "cell_type": "code",
   "execution_count": 781,
   "id": "a73fd14d",
   "metadata": {},
   "outputs": [
    {
     "data": {
      "text/plain": [
       "<folium.features.GeoJson at 0x7ff31a704f40>"
      ]
     },
     "execution_count": 781,
     "metadata": {},
     "output_type": "execute_result"
    }
   ],
   "source": [
    "folium.GeoJson(\n",
    "    polys, \n",
    "    name = \"Planned buildings\", # again, determine the name for the layer toggle\n",
    "    pane = \"polygonsPane\",\n",
    "    style_function = lambda feature: {\n",
    "        'color': 'black',\n",
    "        'weight': 1,\n",
    "        'fillColor': 'black',\n",
    "        'fillOpacity': 0.5         \n",
    "    },\n",
    "    tooltip = folium.GeoJsonTooltip(fields=['Name'], labels = False)\n",
    ").add_to(m)"
   ]
  },
  {
   "cell_type": "code",
   "execution_count": 782,
   "id": "ac77b063",
   "metadata": {},
   "outputs": [
    {
     "name": "stdout",
     "output_type": "stream",
     "text": [
      "Your map should have been opened in your browser automatically.\n",
      "Press ctrl+c to return.\n"
     ]
    },
    {
     "name": "stderr",
     "output_type": "stream",
     "text": [
      "Error: Failed to open Wayland display, fallback to X11. WAYLAND_DISPLAY='wayland-0' DISPLAY=':0'\n"
     ]
    }
   ],
   "source": [
    "# Add layer control to toggle layers\n",
    "folium.LayerControl().add_to(m)\n",
    "#m\n",
    "m.show_in_browser()"
   ]
  },
  {
   "cell_type": "code",
   "execution_count": 67,
   "id": "2e6de312-754a-475f-84a8-f55f9b2b346b",
   "metadata": {},
   "outputs": [],
   "source": [
    "# save the map as hmtl\n",
    "m.save('pipe_map.html')"
   ]
  },
  {
   "cell_type": "markdown",
   "id": "bca0fd71-37f8-4aaa-9594-fd3cde3efaeb",
   "metadata": {},
   "source": [
    "---"
   ]
  }
 ],
 "metadata": {
  "kernelspec": {
   "display_name": "Python 3 (ipykernel)",
   "language": "python",
   "name": "python3"
  },
  "language_info": {
   "codemirror_mode": {
    "name": "ipython",
    "version": 3
   },
   "file_extension": ".py",
   "mimetype": "text/x-python",
   "name": "python",
   "nbconvert_exporter": "python",
   "pygments_lexer": "ipython3",
   "version": "3.10.12"
  }
 },
 "nbformat": 4,
 "nbformat_minor": 5
}
