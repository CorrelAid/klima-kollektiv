{
 "cells": [
  {
   "cell_type": "markdown",
   "id": "7b8ebb6a-6eb7-441f-a009-969b8841b6b1",
   "metadata": {},
   "source": [
    "# CorrelAid for Klima*Kollektiv Karte der Transportleitung, Rohdungstrassen und Zerrstörungspunkte entlang der Trasse\n",
    "Sep 27, 2024\n",
    "\n",
    "by Tim Appelhans"
   ]
  },
  {
   "cell_type": "code",
   "execution_count": 60,
   "id": "96438539-3e3c-43ae-9430-fdefe6f17ff9",
   "metadata": {
    "collapsed": true,
    "jupyter": {
     "outputs_hidden": true
    },
    "tags": []
   },
   "outputs": [],
   "source": [
    "# !pip install geopandas\n",
    "# !pip install folium\n",
    "# !pip install requests"
   ]
  },
  {
   "cell_type": "code",
   "execution_count": 61,
   "id": "2ac28f9a-638f-4ec5-bdac-acd4ccc7e4f1",
   "metadata": {},
   "outputs": [],
   "source": [
    "import pandas as pd\n",
    "import geopandas as gpd\n",
    "import folium\n",
    "from shapely.geometry import Polygon, LineString\n",
    "import json"
   ]
  },
  {
   "cell_type": "code",
   "execution_count": 62,
   "id": "c18fcbd4-fc25-4fb2-b321-4611ebce3433",
   "metadata": {
    "tags": []
   },
   "outputs": [],
   "source": [
    "# ---- Visualization ----\n",
    "\n",
    "# Create a base map\n",
    "m = folium.Map(location = [51.0, 6.5], zoom_start = 9,  min_zoom = 8)"
   ]
  },
  {
   "cell_type": "markdown",
   "id": "a1e9e1a2",
   "metadata": {},
   "source": [
    "Add `Esri.WorldImagery` tile layer (see [Leaflet Provider Demo](https://leaflet-extras.github.io/leaflet-providers/preview/) for a quick preview of various basemaps)."
   ]
  },
  {
   "cell_type": "code",
   "execution_count": 63,
   "id": "d32a58aa",
   "metadata": {},
   "outputs": [
    {
     "data": {
      "text/plain": [
       "<folium.raster_layers.TileLayer at 0x77f906305e40>"
      ]
     },
     "execution_count": 63,
     "metadata": {},
     "output_type": "execute_result"
    }
   ],
   "source": [
    "# add Esri World Imagery tile layer\n",
    "folium.TileLayer(\n",
    "    tiles='https://server.arcgisonline.com/ArcGIS/rest/services/World_Imagery/MapServer/tile/{z}/{y}/{x}',\n",
    "    attr='Esri',\n",
    "    name='Esri.WorldImagery',\n",
    "    overlay=False,\n",
    "    control=True,\n",
    "    show=False # hide layer when opening the map\n",
    ").add_to(m)"
   ]
  },
  {
   "cell_type": "code",
   "execution_count": 64,
   "id": "82f05450-21d6-4175-9bd5-b72158833767",
   "metadata": {},
   "outputs": [
    {
     "data": {
      "text/html": [
       "<div>\n",
       "<style scoped>\n",
       "    .dataframe tbody tr th:only-of-type {\n",
       "        vertical-align: middle;\n",
       "    }\n",
       "\n",
       "    .dataframe tbody tr th {\n",
       "        vertical-align: top;\n",
       "    }\n",
       "\n",
       "    .dataframe thead th {\n",
       "        text-align: right;\n",
       "    }\n",
       "</style>\n",
       "<table border=\"1\" class=\"dataframe\">\n",
       "  <thead>\n",
       "    <tr style=\"text-align: right;\">\n",
       "      <th></th>\n",
       "      <th>id</th>\n",
       "      <th>Name</th>\n",
       "      <th>geometry</th>\n",
       "    </tr>\n",
       "  </thead>\n",
       "  <tbody>\n",
       "    <tr>\n",
       "      <th>0</th>\n",
       "      <td>0</td>\n",
       "      <td>transportleitung_west</td>\n",
       "      <td>MULTILINESTRING ((350531.177 5662445.558, 3501...</td>\n",
       "    </tr>\n",
       "    <tr>\n",
       "      <th>1</th>\n",
       "      <td>1</td>\n",
       "      <td>transportleitung_sued</td>\n",
       "      <td>MULTILINESTRING ((333215.541 5658810.732, 3341...</td>\n",
       "    </tr>\n",
       "  </tbody>\n",
       "</table>\n",
       "</div>"
      ],
      "text/plain": [
       "   id                   Name  \\\n",
       "0   0  transportleitung_west   \n",
       "1   1  transportleitung_sued   \n",
       "\n",
       "                                            geometry  \n",
       "0  MULTILINESTRING ((350531.177 5662445.558, 3501...  \n",
       "1  MULTILINESTRING ((333215.541 5658810.732, 3341...  "
      ]
     },
     "execution_count": 64,
     "metadata": {},
     "output_type": "execute_result"
    }
   ],
   "source": [
    "# load GeoPackage file 'transportleitungen_geom' into geodataframe gdf\n",
    "gdf = gpd.read_file(\"transportleitung_geom.gpkg\")\n",
    "\n",
    "# print to inspect the data\n",
    "gdf"
   ]
  },
  {
   "cell_type": "code",
   "execution_count": 65,
   "id": "ea755203-b2d5-43a1-a009-7fb2445f49cc",
   "metadata": {
    "scrolled": true
   },
   "outputs": [
    {
     "data": {
      "text/plain": [
       "<Geographic 2D CRS: EPSG:4326>\n",
       "Name: WGS 84\n",
       "Axis Info [ellipsoidal]:\n",
       "- Lat[north]: Geodetic latitude (degree)\n",
       "- Lon[east]: Geodetic longitude (degree)\n",
       "Area of Use:\n",
       "- name: World.\n",
       "- bounds: (-180.0, -90.0, 180.0, 90.0)\n",
       "Datum: World Geodetic System 1984 ensemble\n",
       "- Ellipsoid: WGS 84\n",
       "- Prime Meridian: Greenwich"
      ]
     },
     "execution_count": 65,
     "metadata": {},
     "output_type": "execute_result"
    }
   ],
   "source": [
    "gdf = gdf.to_crs(\"EPSG:4326\") # change CRS to the same as in 'consumer'\n",
    "gdf.crs"
   ]
  },
  {
   "cell_type": "code",
   "execution_count": 66,
   "id": "7ec67a82-6fd8-49e0-9075-a3b5371df93d",
   "metadata": {},
   "outputs": [
    {
     "data": {
      "text/plain": [
       "<folium.map.LayerControl at 0x77f90392e7d0>"
      ]
     },
     "execution_count": 66,
     "metadata": {},
     "output_type": "execute_result"
    }
   ],
   "source": [
    "\n",
    "# Add the GeoDataFrame to the map\n",
    "folium.GeoJson(\n",
    "    gdf, \n",
    "    name=\"Water pipelines\", # again, determine the name for the layer toggle\n",
    "    style_function = lambda feature: {\n",
    "        'color': 'orange' if feature['properties']['Name'] == 'transportleitung_sued' else 'green',\n",
    "        'weight': 5\n",
    "    },\n",
    "    popup = folium.GeoJsonPopup(fields=['Name'])\n",
    ").add_to(m)\n",
    "\n",
    "# Add layer control to toggle layers\n",
    "folium.LayerControl().add_to(m)"
   ]
  },
  {
   "cell_type": "code",
   "execution_count": 67,
   "id": "931ce44d-c889-4221-ba85-071c8104f4c7",
   "metadata": {},
   "outputs": [
    {
     "data": {
      "text/html": [
       "<div style=\"width:100%;\"><div style=\"position:relative;width:100%;height:0;padding-bottom:60%;\"><span style=\"color:#565656\">Make this Notebook Trusted to load map: File -> Trust Notebook</span><iframe srcdoc=\"&lt;!DOCTYPE html&gt;\n",
       "&lt;html&gt;\n",
       "&lt;head&gt;\n",
       "    \n",
       "    &lt;meta http-equiv=&quot;content-type&quot; content=&quot;text/html; charset=UTF-8&quot; /&gt;\n",
       "    \n",
       "        &lt;script&gt;\n",
       "            L_NO_TOUCH = false;\n",
       "            L_DISABLE_3D = false;\n",
       "        &lt;/script&gt;\n",
       "    \n",
       "    &lt;style&gt;html, body {width: 100%;height: 100%;margin: 0;padding: 0;}&lt;/style&gt;\n",
       "    &lt;style&gt;#map {position:absolute;top:0;bottom:0;right:0;left:0;}&lt;/style&gt;\n",
       "    &lt;script src=&quot;https://cdn.jsdelivr.net/npm/leaflet@1.9.3/dist/leaflet.js&quot;&gt;&lt;/script&gt;\n",
       "    &lt;script src=&quot;https://code.jquery.com/jquery-3.7.1.min.js&quot;&gt;&lt;/script&gt;\n",
       "    &lt;script src=&quot;https://cdn.jsdelivr.net/npm/bootstrap@5.2.2/dist/js/bootstrap.bundle.min.js&quot;&gt;&lt;/script&gt;\n",
       "    &lt;script src=&quot;https://cdnjs.cloudflare.com/ajax/libs/Leaflet.awesome-markers/2.0.2/leaflet.awesome-markers.js&quot;&gt;&lt;/script&gt;\n",
       "    &lt;link rel=&quot;stylesheet&quot; href=&quot;https://cdn.jsdelivr.net/npm/leaflet@1.9.3/dist/leaflet.css&quot;/&gt;\n",
       "    &lt;link rel=&quot;stylesheet&quot; href=&quot;https://cdn.jsdelivr.net/npm/bootstrap@5.2.2/dist/css/bootstrap.min.css&quot;/&gt;\n",
       "    &lt;link rel=&quot;stylesheet&quot; href=&quot;https://netdna.bootstrapcdn.com/bootstrap/3.0.0/css/bootstrap-glyphicons.css&quot;/&gt;\n",
       "    &lt;link rel=&quot;stylesheet&quot; href=&quot;https://cdn.jsdelivr.net/npm/@fortawesome/fontawesome-free@6.2.0/css/all.min.css&quot;/&gt;\n",
       "    &lt;link rel=&quot;stylesheet&quot; href=&quot;https://cdnjs.cloudflare.com/ajax/libs/Leaflet.awesome-markers/2.0.2/leaflet.awesome-markers.css&quot;/&gt;\n",
       "    &lt;link rel=&quot;stylesheet&quot; href=&quot;https://cdn.jsdelivr.net/gh/python-visualization/folium/folium/templates/leaflet.awesome.rotate.min.css&quot;/&gt;\n",
       "    \n",
       "            &lt;meta name=&quot;viewport&quot; content=&quot;width=device-width,\n",
       "                initial-scale=1.0, maximum-scale=1.0, user-scalable=no&quot; /&gt;\n",
       "            &lt;style&gt;\n",
       "                #map_dfab78fde9d3d63cf18d6f9ba3992ce5 {\n",
       "                    position: relative;\n",
       "                    width: 100.0%;\n",
       "                    height: 100.0%;\n",
       "                    left: 0.0%;\n",
       "                    top: 0.0%;\n",
       "                }\n",
       "                .leaflet-container { font-size: 1rem; }\n",
       "            &lt;/style&gt;\n",
       "        \n",
       "    \n",
       "                    &lt;style&gt;\n",
       "                        .foliumpopup {\n",
       "                            margin: auto;\n",
       "                        }\n",
       "                       .foliumpopup table{\n",
       "                            margin: auto;\n",
       "                        }\n",
       "                        .foliumpopup tr{\n",
       "                            text-align: left;\n",
       "                        }\n",
       "                        .foliumpopup th{\n",
       "                            padding: 2px; padding-right: 8px;\n",
       "                        }\n",
       "                    &lt;/style&gt;\n",
       "            \n",
       "&lt;/head&gt;\n",
       "&lt;body&gt;\n",
       "    \n",
       "    \n",
       "            &lt;div class=&quot;folium-map&quot; id=&quot;map_dfab78fde9d3d63cf18d6f9ba3992ce5&quot; &gt;&lt;/div&gt;\n",
       "        \n",
       "&lt;/body&gt;\n",
       "&lt;script&gt;\n",
       "    \n",
       "    \n",
       "            var map_dfab78fde9d3d63cf18d6f9ba3992ce5 = L.map(\n",
       "                &quot;map_dfab78fde9d3d63cf18d6f9ba3992ce5&quot;,\n",
       "                {\n",
       "                    center: [51.0, 6.5],\n",
       "                    crs: L.CRS.EPSG3857,\n",
       "                    zoom: 9,\n",
       "                    zoomControl: true,\n",
       "                    preferCanvas: false,\n",
       "                }\n",
       "            );\n",
       "\n",
       "            \n",
       "\n",
       "        \n",
       "    \n",
       "            var tile_layer_64219a9516ac27253859991b4654588c = L.tileLayer(\n",
       "                &quot;https://tile.openstreetmap.org/{z}/{x}/{y}.png&quot;,\n",
       "                {&quot;attribution&quot;: &quot;\\u0026copy; \\u003ca href=\\&quot;https://www.openstreetmap.org/copyright\\&quot;\\u003eOpenStreetMap\\u003c/a\\u003e contributors&quot;, &quot;detectRetina&quot;: false, &quot;maxNativeZoom&quot;: 19, &quot;maxZoom&quot;: 19, &quot;minZoom&quot;: 8, &quot;noWrap&quot;: false, &quot;opacity&quot;: 1, &quot;subdomains&quot;: &quot;abc&quot;, &quot;tms&quot;: false}\n",
       "            );\n",
       "        \n",
       "    \n",
       "            tile_layer_64219a9516ac27253859991b4654588c.addTo(map_dfab78fde9d3d63cf18d6f9ba3992ce5);\n",
       "        \n",
       "    \n",
       "            var tile_layer_2f4cc14cd10163d39d4b75451240d2e5 = L.tileLayer(\n",
       "                &quot;https://server.arcgisonline.com/ArcGIS/rest/services/World_Imagery/MapServer/tile/{z}/{y}/{x}&quot;,\n",
       "                {&quot;attribution&quot;: &quot;Esri&quot;, &quot;detectRetina&quot;: false, &quot;maxZoom&quot;: 18, &quot;minZoom&quot;: 0, &quot;noWrap&quot;: false, &quot;opacity&quot;: 1, &quot;subdomains&quot;: &quot;abc&quot;, &quot;tms&quot;: false}\n",
       "            );\n",
       "        \n",
       "    \n",
       "        function geo_json_e01627d2de9e18705c53b97ef0b62ea5_styler(feature) {\n",
       "            switch(feature.id) {\n",
       "                case &quot;0&quot;: \n",
       "                    return {&quot;color&quot;: &quot;green&quot;, &quot;weight&quot;: 5};\n",
       "                default:\n",
       "                    return {&quot;color&quot;: &quot;orange&quot;, &quot;weight&quot;: 5};\n",
       "            }\n",
       "        }\n",
       "\n",
       "        function geo_json_e01627d2de9e18705c53b97ef0b62ea5_onEachFeature(feature, layer) {\n",
       "            layer.on({\n",
       "            });\n",
       "        };\n",
       "        var geo_json_e01627d2de9e18705c53b97ef0b62ea5 = L.geoJson(null, {\n",
       "                onEachFeature: geo_json_e01627d2de9e18705c53b97ef0b62ea5_onEachFeature,\n",
       "            \n",
       "                style: geo_json_e01627d2de9e18705c53b97ef0b62ea5_styler,\n",
       "        });\n",
       "\n",
       "        function geo_json_e01627d2de9e18705c53b97ef0b62ea5_add (data) {\n",
       "            geo_json_e01627d2de9e18705c53b97ef0b62ea5\n",
       "                .addData(data);\n",
       "        }\n",
       "            geo_json_e01627d2de9e18705c53b97ef0b62ea5_add({&quot;bbox&quot;: [6.532163225141019, 50.93531498607205, 6.865472317872852, 51.11212353752092], &quot;features&quot;: [{&quot;bbox&quot;: [6.559094423801215, 51.04820777078829, 6.865472317872852, 51.11212353752092], &quot;geometry&quot;: {&quot;coordinates&quot;: [[[6.865472317872852, 51.09400342999973], [6.860237305097188, 51.097207796488995], [6.864315948224807, 51.09978786405073], [6.861529280917576, 51.10361044455939], [6.863125912150723, 51.10590816587224], [6.863081100558049, 51.1068795688418], [6.858385274677027, 51.110807154838945], [6.834673314081406, 51.10786554341019], [6.8225062389394635, 51.11148917752695], [6.817900237203971, 51.11086383244901], [6.8026918306661415, 51.1112164388158], [6.798999223792751, 51.111048879943134], [6.798196397516839, 51.11154868557662], [6.793572476607159, 51.11212353752092], [6.784075076075054, 51.11196838446345], [6.770134046099873, 51.103783149536966], [6.76640208871927, 51.10363832486251], [6.751481895528104, 51.096486480362195], [6.74763031591587, 51.096412311360574], [6.74662474930026, 51.09627032373174], [6.744124576063552, 51.09563359546517], [6.739208878996726, 51.0950236700559], [6.7363348209329565, 51.094869951882615], [6.7190206673622965, 51.0945823291338], [6.700641863755957, 51.09221145377965], [6.700184789728662, 51.092006293480495], [6.696706201353014, 51.08521909532105], [6.6927991323769245, 51.081586502981985], [6.692438268183371, 51.081015398809654], [6.663095771140474, 51.07962669946607], [6.6559957517339505, 51.074284885185605], [6.6546849086638575, 51.07429984683803], [6.643900289737526, 51.066081046330794], [6.639173969829865, 51.06429014889839], [6.627697335919053, 51.05702958360808], [6.621695836294041, 51.057586898591815], [6.620085482379338, 51.05657196932433], [6.618630594631546, 51.05561620567472], [6.616981611101253, 51.055919686722284], [6.6138478133259895, 51.056090880997374], [6.610738187730578, 51.05579216138445], [6.608474830895486, 51.05536370990378], [6.598005432776437, 51.05217998401895], [6.597088436889146, 51.05007405528524], [6.590900762552194, 51.0488883756795], [6.589257261101717, 51.04820777078829], [6.58245822407662, 51.048919724226565], [6.580695661246395, 51.048736256166045], [6.575788972416314, 51.04892848560926], [6.571921433492336, 51.04975941839345], [6.5709574570571565, 51.05035668219364], [6.569968394894225, 51.050541879671734], [6.563909170016819, 51.05047446594985], [6.563216885556981, 51.05122430978669], [6.560007553153368, 51.05232020367194], [6.559094423801215, 51.052723291419625]]], &quot;type&quot;: &quot;MultiLineString&quot;}, &quot;id&quot;: &quot;0&quot;, &quot;properties&quot;: {&quot;Name&quot;: &quot;transportleitung_west&quot;, &quot;id&quot;: 0}, &quot;type&quot;: &quot;Feature&quot;}, {&quot;bbox&quot;: [6.532163225141019, 50.93531498607205, 6.650031153240164, 51.05657196932433], &quot;geometry&quot;: {&quot;coordinates&quot;: [[[6.620085482379338, 51.05657196932433], [6.633339712023893, 51.05321264945729], [6.636200316925918, 51.05208662273652], [6.637718021729528, 51.051224811054965], [6.638621110291785, 51.050514488370865], [6.640674597264402, 51.0482063054767], [6.64097231447212, 51.04746552221391], [6.647087316326326, 51.037989794209864], [6.647985737941268, 51.036222863031995], [6.648437393048553, 51.03472014950501], [6.648731533770987, 51.032904616069736], [6.649499936732412, 51.03199113961003], [6.64965864470885, 51.031138249372354], [6.6489753201319015, 51.02923018319753], [6.649253128445385, 51.0283068322149], [6.650031153240164, 51.019828342470994], [6.630815839356986, 51.012204965068136], [6.618820712433329, 51.00952429705167], [6.617668219886587, 51.00862190323051], [6.620141913110667, 51.002070455818824], [6.618011831689031, 50.998123120029625], [6.6184086054270646, 50.99670046201907], [6.618396855099752, 50.99340288523643], [6.6172530890255805, 50.99259770263056], [6.617376608081148, 50.9901866906058], [6.616266295237492, 50.9866287114449], [6.606825781247709, 50.98483790098143], [6.606425100387974, 50.984251798018136], [6.604556185344034, 50.983941521474186], [6.603195957534467, 50.9831657489344], [6.596477347036428, 50.98187185299128], [6.592548223537303, 50.97975128604933], [6.591475908749708, 50.97966118272478], [6.5873583761940075, 50.977448130017024], [6.585974542617504, 50.976795742001826], [6.534973242726159, 50.94977582060311], [6.532163225141019, 50.93531498607205]]], &quot;type&quot;: &quot;MultiLineString&quot;}, &quot;id&quot;: &quot;1&quot;, &quot;properties&quot;: {&quot;Name&quot;: &quot;transportleitung_sued&quot;, &quot;id&quot;: 1}, &quot;type&quot;: &quot;Feature&quot;}], &quot;type&quot;: &quot;FeatureCollection&quot;});\n",
       "\n",
       "        \n",
       "    \n",
       "    geo_json_e01627d2de9e18705c53b97ef0b62ea5.bindPopup(\n",
       "    function(layer){\n",
       "    let div = L.DomUtil.create(&#x27;div&#x27;);\n",
       "    \n",
       "    let handleObject = feature=&gt;typeof(feature)==&#x27;object&#x27; ? JSON.stringify(feature) : feature;\n",
       "    let fields = [&quot;Name&quot;];\n",
       "    let aliases = [&quot;Name&quot;];\n",
       "    let table = &#x27;&lt;table&gt;&#x27; +\n",
       "        String(\n",
       "        fields.map(\n",
       "        (v,i)=&gt;\n",
       "        `&lt;tr&gt;\n",
       "            &lt;th&gt;${aliases[i].toLocaleString()}&lt;/th&gt;\n",
       "            \n",
       "            &lt;td&gt;${handleObject(layer.feature.properties[v]).toLocaleString()}&lt;/td&gt;\n",
       "        &lt;/tr&gt;`).join(&#x27;&#x27;))\n",
       "    +&#x27;&lt;/table&gt;&#x27;;\n",
       "    div.innerHTML=table;\n",
       "    \n",
       "    return div\n",
       "    }\n",
       "    ,{&quot;className&quot;: &quot;foliumpopup&quot;});\n",
       "                     \n",
       "    \n",
       "            geo_json_e01627d2de9e18705c53b97ef0b62ea5.addTo(map_dfab78fde9d3d63cf18d6f9ba3992ce5);\n",
       "        \n",
       "    \n",
       "            var layer_control_5f5a6dc5314a32ac8b3740a565a24956_layers = {\n",
       "                base_layers : {\n",
       "                    &quot;openstreetmap&quot; : tile_layer_64219a9516ac27253859991b4654588c,\n",
       "                    &quot;Esri.WorldImagery&quot; : tile_layer_2f4cc14cd10163d39d4b75451240d2e5,\n",
       "                },\n",
       "                overlays :  {\n",
       "                    &quot;Water pipelines&quot; : geo_json_e01627d2de9e18705c53b97ef0b62ea5,\n",
       "                },\n",
       "            };\n",
       "            let layer_control_5f5a6dc5314a32ac8b3740a565a24956 = L.control.layers(\n",
       "                layer_control_5f5a6dc5314a32ac8b3740a565a24956_layers.base_layers,\n",
       "                layer_control_5f5a6dc5314a32ac8b3740a565a24956_layers.overlays,\n",
       "                {&quot;autoZIndex&quot;: true, &quot;collapsed&quot;: true, &quot;position&quot;: &quot;topright&quot;}\n",
       "            ).addTo(map_dfab78fde9d3d63cf18d6f9ba3992ce5);\n",
       "\n",
       "        \n",
       "&lt;/script&gt;\n",
       "&lt;/html&gt;\" style=\"position:absolute;width:100%;height:100%;left:0;top:0;border:none !important;\" allowfullscreen webkitallowfullscreen mozallowfullscreen></iframe></div></div>"
      ],
      "text/plain": [
       "<folium.folium.Map at 0x77f906314d90>"
      ]
     },
     "execution_count": 67,
     "metadata": {},
     "output_type": "execute_result"
    }
   ],
   "source": [
    "m"
   ]
  },
  {
   "cell_type": "code",
   "execution_count": null,
   "id": "28d9c213",
   "metadata": {},
   "outputs": [],
   "source": []
  },
  {
   "cell_type": "code",
   "execution_count": 67,
   "id": "2e6de312-754a-475f-84a8-f55f9b2b346b",
   "metadata": {},
   "outputs": [],
   "source": [
    "# save the map as hmtl\n",
    "m.save('pipe_map.html')"
   ]
  },
  {
   "cell_type": "markdown",
   "id": "bca0fd71-37f8-4aaa-9594-fd3cde3efaeb",
   "metadata": {},
   "source": [
    "---"
   ]
  }
 ],
 "metadata": {
  "kernelspec": {
   "display_name": "Python 3 (ipykernel)",
   "language": "python",
   "name": "python3"
  },
  "language_info": {
   "codemirror_mode": {
    "name": "ipython",
    "version": 3
   },
   "file_extension": ".py",
   "mimetype": "text/x-python",
   "name": "python",
   "nbconvert_exporter": "python",
   "pygments_lexer": "ipython3",
   "version": "3.10.12"
  }
 },
 "nbformat": 4,
 "nbformat_minor": 5
}
