{
 "cells": [
  {
   "cell_type": "markdown",
   "id": "7b8ebb6a-6eb7-441f-a009-969b8841b6b1",
   "metadata": {},
   "source": [
    "# CorrelAid for Klima*Kollektiv Karte der Transportleitung, Rohdungstrassen und Zerrstörungspunkte entlang der Trasse\n",
    "Sep 27, 2024\n",
    "\n",
    "by Tim Appelhans"
   ]
  },
  {
   "cell_type": "code",
   "execution_count": 153,
   "id": "96438539-3e3c-43ae-9430-fdefe6f17ff9",
   "metadata": {
    "scrolled": true,
    "tags": []
   },
   "outputs": [],
   "source": [
    "# !pip install geopandas\n",
    "# !pip install folium\n",
    "# !pip install requests"
   ]
  },
  {
   "cell_type": "code",
   "execution_count": 122,
   "id": "2ac28f9a-638f-4ec5-bdac-acd4ccc7e4f1",
   "metadata": {},
   "outputs": [],
   "source": [
    "import pandas as pd\n",
    "import geopandas as gpd\n",
    "import folium\n",
    "from shapely.geometry import Polygon, MultiPolygon, MultiLineString\n",
    "import json"
   ]
  },
  {
   "cell_type": "code",
   "execution_count": 124,
   "id": "c18fcbd4-fc25-4fb2-b321-4611ebce3433",
   "metadata": {
    "tags": []
   },
   "outputs": [
    {
     "data": {
      "text/plain": [
       "<folium.map.CustomPane at 0x7fb500c985b0>"
      ]
     },
     "execution_count": 124,
     "metadata": {},
     "output_type": "execute_result"
    }
   ],
   "source": [
    "# ---- Visualization ----\n",
    "\n",
    "# Create a base map\n",
    "m = folium.Map(location = [51.0, 6.5], zoom_start = 10,  min_zoom = 8)\n",
    "\n",
    "# Set up custome map panes for points, lines, polygons\n",
    "folium.map.CustomPane(\"pointsPane\", z_index = 330).add_to(m)\n",
    "folium.map.CustomPane(\"linesPane\", z_index = 320).add_to(m)\n",
    "folium.map.CustomPane(\"polygonsPane\", z_index = 310).add_to(m)\n"
   ]
  },
  {
   "cell_type": "markdown",
   "id": "a1e9e1a2",
   "metadata": {},
   "source": [
    "Add `Esri.WorldImagery` tile layer (see [Leaflet Provider Demo](https://leaflet-extras.github.io/leaflet-providers/preview/) for a quick preview of various basemaps)."
   ]
  },
  {
   "cell_type": "code",
   "execution_count": 127,
   "id": "d32a58aa",
   "metadata": {},
   "outputs": [
    {
     "data": {
      "text/plain": [
       "<folium.raster_layers.TileLayer at 0x7fb500c3a760>"
      ]
     },
     "execution_count": 127,
     "metadata": {},
     "output_type": "execute_result"
    }
   ],
   "source": [
    "# add Esri World Imagery tile layer\n",
    "folium.TileLayer(\n",
    "    tiles='https://server.arcgisonline.com/ArcGIS/rest/services/World_Imagery/MapServer/tile/{z}/{y}/{x}',\n",
    "    attr='Esri',\n",
    "    name='Esri.WorldImagery',\n",
    "    overlay=False,\n",
    "    control=True,\n",
    "    min_zoom = 8,\n",
    "    show=False # hide layer when opening the map\n",
    ").add_to(m)\n",
    "\n",
    "# add grey canvas tile layer\n",
    "folium.TileLayer(\n",
    "    tiles='https://{s}.basemaps.cartocdn.com/light_all/{z}/{x}/{y}{r}.png',\n",
    "    attr='Carto',\n",
    "    name='Grey Canvas',\n",
    "    overlay=False,\n",
    "    control=True,\n",
    "    min_zoom = 8,\n",
    "    show=True # hide layer when opening the map\n",
    ").add_to(m)\n",
    "\n"
   ]
  },
  {
   "cell_type": "code",
   "execution_count": 129,
   "id": "bf760969",
   "metadata": {},
   "outputs": [
    {
     "data": {
      "text/html": [
       "<div>\n",
       "<style scoped>\n",
       "    .dataframe tbody tr th:only-of-type {\n",
       "        vertical-align: middle;\n",
       "    }\n",
       "\n",
       "    .dataframe tbody tr th {\n",
       "        vertical-align: top;\n",
       "    }\n",
       "\n",
       "    .dataframe thead th {\n",
       "        text-align: right;\n",
       "    }\n",
       "</style>\n",
       "<table border=\"1\" class=\"dataframe\">\n",
       "  <thead>\n",
       "    <tr style=\"text-align: right;\">\n",
       "      <th></th>\n",
       "      <th>id</th>\n",
       "      <th>geometry</th>\n",
       "    </tr>\n",
       "  </thead>\n",
       "  <tbody>\n",
       "    <tr>\n",
       "      <th>0</th>\n",
       "      <td>0</td>\n",
       "      <td>POLYGON ((6.49395 50.88401, 6.48964 50.88573, ...</td>\n",
       "    </tr>\n",
       "  </tbody>\n",
       "</table>\n",
       "</div>"
      ],
      "text/plain": [
       "   id                                           geometry\n",
       "0   0  POLYGON ((6.49395 50.88401, 6.48964 50.88573, ..."
      ]
     },
     "execution_count": 129,
     "metadata": {},
     "output_type": "execute_result"
    }
   ],
   "source": [
    "hambacher_see = gpd.read_file(\"../data/hambachersee_gp.gpkg\", layer = 'hambacher_see_wasser')\n",
    "hambacher_see = hambacher_see.set_geometry([Polygon(hambacher_see.get_coordinates())])\n",
    "hambacher_see\n",
    "#hambacher_see.geometry = hambacher_see.geometry.apply(lambda x: Polygon(x.get_coordinates()))\n"
   ]
  },
  {
   "cell_type": "code",
   "execution_count": 131,
   "id": "16cc42ae",
   "metadata": {},
   "outputs": [],
   "source": [
    "garzweiler_see = gpd.read_file(\"../data/garzweilersee_wasser.gpkg\", layer = 'garzweilersee_wasser')\n",
    "garzweiler_see = garzweiler_see.set_geometry([Polygon(garzweiler_see.get_coordinates())])\n",
    "inder_see = gpd.read_file(\"../data/indersee_gp.gpkg\", layer = 'inder_see_wasser')\n",
    "inder_see = inder_see.set_geometry([Polygon(inder_see.get_coordinates())])"
   ]
  },
  {
   "cell_type": "code",
   "execution_count": 133,
   "id": "4748ff37",
   "metadata": {},
   "outputs": [
    {
     "name": "stderr",
     "output_type": "stream",
     "text": [
      "/Users/nf/opt/anaconda3/lib/python3.9/site-packages/geopandas/array.py:968: RuntimeWarning: All-NaN slice encountered\n",
      "  np.nanmin(b[:, 0]),  # minx\n",
      "/Users/nf/opt/anaconda3/lib/python3.9/site-packages/geopandas/array.py:969: RuntimeWarning: All-NaN slice encountered\n",
      "  np.nanmin(b[:, 1]),  # miny\n",
      "/Users/nf/opt/anaconda3/lib/python3.9/site-packages/geopandas/array.py:970: RuntimeWarning: All-NaN slice encountered\n",
      "  np.nanmax(b[:, 2]),  # maxx\n",
      "/Users/nf/opt/anaconda3/lib/python3.9/site-packages/geopandas/array.py:971: RuntimeWarning: All-NaN slice encountered\n",
      "  np.nanmax(b[:, 3]),  # maxy\n",
      "/Users/nf/opt/anaconda3/lib/python3.9/site-packages/geopandas/array.py:968: RuntimeWarning: All-NaN slice encountered\n",
      "  np.nanmin(b[:, 0]),  # minx\n",
      "/Users/nf/opt/anaconda3/lib/python3.9/site-packages/geopandas/array.py:969: RuntimeWarning: All-NaN slice encountered\n",
      "  np.nanmin(b[:, 1]),  # miny\n",
      "/Users/nf/opt/anaconda3/lib/python3.9/site-packages/geopandas/array.py:970: RuntimeWarning: All-NaN slice encountered\n",
      "  np.nanmax(b[:, 2]),  # maxx\n",
      "/Users/nf/opt/anaconda3/lib/python3.9/site-packages/geopandas/array.py:971: RuntimeWarning: All-NaN slice encountered\n",
      "  np.nanmax(b[:, 3]),  # maxy\n"
     ]
    },
    {
     "data": {
      "text/plain": [
       "<folium.features.GeoJson at 0x7fb523a3cb20>"
      ]
     },
     "execution_count": 133,
     "metadata": {},
     "output_type": "execute_result"
    }
   ],
   "source": [
    "folium.GeoJson(\n",
    "    hambacher_see, \n",
    "    name=\"Hambacher See\", \n",
    "    pane = \"polygonsPane\",\n",
    "    style_function = lambda feature: {\n",
    "        'color': '#4e4eff',\n",
    "        'fillColor': \"#4e4eff\",\n",
    "        'fillOpacity': 0.8,\n",
    "        'fill': True,\n",
    "        'weight': 0\n",
    "    },\n",
    "    tooltip = \"Hambacher See\"\n",
    ").add_to(m)\n",
    "\n",
    "folium.GeoJson(\n",
    "    garzweiler_see, \n",
    "    name=\"Garzweiler See\", \n",
    "    pane = \"polygonsPane\",\n",
    "    style_function = lambda feature: {\n",
    "        'color': '#4e4eff',\n",
    "        'fillColor': \"#4e4eff\",\n",
    "        'fillOpacity': 0.8,\n",
    "        'fill': True,\n",
    "        'weight': 0\n",
    "    },\n",
    "    tooltip = \"Garzweiler See\"\n",
    ").add_to(m)\n",
    "\n",
    "folium.GeoJson(\n",
    "    inder_see, \n",
    "    name=\"Inder See\", \n",
    "    pane = \"polygonsPane\",\n",
    "    style_function = lambda feature: {\n",
    "        'color': '#4e4eff',\n",
    "        'fillColor': \"#4e4eff\",\n",
    "        'fillOpacity': 0.8,\n",
    "        'fill': True,\n",
    "        'weight': 0\n",
    "    },\n",
    "    tooltip = \"Inder See\"\n",
    ").add_to(m)"
   ]
  },
  {
   "cell_type": "code",
   "execution_count": 135,
   "id": "82f05450-21d6-4175-9bd5-b72158833767",
   "metadata": {},
   "outputs": [
    {
     "data": {
      "text/html": [
       "<div>\n",
       "<style scoped>\n",
       "    .dataframe tbody tr th:only-of-type {\n",
       "        vertical-align: middle;\n",
       "    }\n",
       "\n",
       "    .dataframe tbody tr th {\n",
       "        vertical-align: top;\n",
       "    }\n",
       "\n",
       "    .dataframe thead th {\n",
       "        text-align: right;\n",
       "    }\n",
       "</style>\n",
       "<table border=\"1\" class=\"dataframe\">\n",
       "  <thead>\n",
       "    <tr style=\"text-align: right;\">\n",
       "      <th></th>\n",
       "      <th>id</th>\n",
       "      <th>Name</th>\n",
       "      <th>geometry</th>\n",
       "    </tr>\n",
       "  </thead>\n",
       "  <tbody>\n",
       "    <tr>\n",
       "      <th>0</th>\n",
       "      <td>0</td>\n",
       "      <td>Transportleitung West</td>\n",
       "      <td>MULTILINESTRING ((350531.177 5662445.558, 3501...</td>\n",
       "    </tr>\n",
       "    <tr>\n",
       "      <th>1</th>\n",
       "      <td>1</td>\n",
       "      <td>Transportleitung Süd</td>\n",
       "      <td>MULTILINESTRING ((333215.541 5658810.732, 3341...</td>\n",
       "    </tr>\n",
       "  </tbody>\n",
       "</table>\n",
       "</div>"
      ],
      "text/plain": [
       "   id                   Name  \\\n",
       "0   0  Transportleitung West   \n",
       "1   1   Transportleitung Süd   \n",
       "\n",
       "                                            geometry  \n",
       "0  MULTILINESTRING ((350531.177 5662445.558, 3501...  \n",
       "1  MULTILINESTRING ((333215.541 5658810.732, 3341...  "
      ]
     },
     "execution_count": 135,
     "metadata": {},
     "output_type": "execute_result"
    }
   ],
   "source": [
    "# load GeoPackage file 'transportleitungen_geom' into geodataframe gdf\n",
    "pipelines = gpd.read_file(\"../data/transportleitung_geom.gpkg\")\n",
    "\n",
    "# print to inspect the data\n",
    "pipelines.Name = [\"Transportleitung West\", \"Transportleitung Süd\"]\n",
    "pipelines"
   ]
  },
  {
   "cell_type": "code",
   "execution_count": 137,
   "id": "ea755203-b2d5-43a1-a009-7fb2445f49cc",
   "metadata": {
    "scrolled": true
   },
   "outputs": [
    {
     "data": {
      "text/plain": [
       "<Geographic 2D CRS: EPSG:4326>\n",
       "Name: WGS 84\n",
       "Axis Info [ellipsoidal]:\n",
       "- Lat[north]: Geodetic latitude (degree)\n",
       "- Lon[east]: Geodetic longitude (degree)\n",
       "Area of Use:\n",
       "- name: World.\n",
       "- bounds: (-180.0, -90.0, 180.0, 90.0)\n",
       "Datum: World Geodetic System 1984 ensemble\n",
       "- Ellipsoid: WGS 84\n",
       "- Prime Meridian: Greenwich"
      ]
     },
     "execution_count": 137,
     "metadata": {},
     "output_type": "execute_result"
    }
   ],
   "source": [
    "pipelines = pipelines.to_crs(\"EPSG:4326\") # change CRS to the same as in 'consumer'\n",
    "pipelines.crs"
   ]
  },
  {
   "cell_type": "code",
   "execution_count": 139,
   "id": "7ec67a82-6fd8-49e0-9075-a3b5371df93d",
   "metadata": {},
   "outputs": [
    {
     "data": {
      "text/plain": [
       "<folium.features.GeoJson at 0x7fb500c30760>"
      ]
     },
     "execution_count": 139,
     "metadata": {},
     "output_type": "execute_result"
    }
   ],
   "source": [
    "\n",
    "# Add the GeoDataFrame to the map\n",
    "folium.GeoJson(\n",
    "    pipelines, \n",
    "    name=\"Water pipelines\", # again, determine the name for the layer toggle\n",
    "    pane = \"linesPane\",\n",
    "    style_function = lambda feature: {\n",
    "        'color': '#707070' if feature['properties']['Name'] == 'transportleitung_sued' else '#3f3f3f',\n",
    "        'weight': 5\n",
    "    },\n",
    "    tooltip = folium.GeoJsonTooltip(fields=['Name'], labels = False)\n",
    ").add_to(m)\n"
   ]
  },
  {
   "cell_type": "code",
   "execution_count": 141,
   "id": "28d9c213",
   "metadata": {},
   "outputs": [
    {
     "data": {
      "text/html": [
       "<div>\n",
       "<style scoped>\n",
       "    .dataframe tbody tr th:only-of-type {\n",
       "        vertical-align: middle;\n",
       "    }\n",
       "\n",
       "    .dataframe tbody tr th {\n",
       "        vertical-align: top;\n",
       "    }\n",
       "\n",
       "    .dataframe thead th {\n",
       "        text-align: right;\n",
       "    }\n",
       "</style>\n",
       "<table border=\"1\" class=\"dataframe\">\n",
       "  <thead>\n",
       "    <tr style=\"text-align: right;\">\n",
       "      <th></th>\n",
       "      <th>pkuid</th>\n",
       "      <th>geometry</th>\n",
       "    </tr>\n",
       "  </thead>\n",
       "  <tbody>\n",
       "    <tr>\n",
       "      <th>0</th>\n",
       "      <td>1</td>\n",
       "      <td>POLYGON ((6.86325 51.09179, 6.86972 51.09416, ...</td>\n",
       "    </tr>\n",
       "  </tbody>\n",
       "</table>\n",
       "</div>"
      ],
      "text/plain": [
       "   pkuid                                           geometry\n",
       "0      1  POLYGON ((6.86325 51.09179, 6.86972 51.09416, ..."
      ]
     },
     "execution_count": 141,
     "metadata": {},
     "output_type": "execute_result"
    }
   ],
   "source": [
    "# load GeoPackage file for clearing\n",
    "clearing = gpd.read_file(\"../data/rodungstrasse.gpkg\")\n",
    "\n",
    "# print to inspect the data\n",
    "clearing"
   ]
  },
  {
   "cell_type": "code",
   "execution_count": 143,
   "id": "925c64d9",
   "metadata": {},
   "outputs": [
    {
     "data": {
      "text/plain": [
       "<folium.features.GeoJson at 0x7fb523b89be0>"
      ]
     },
     "execution_count": 143,
     "metadata": {},
     "output_type": "execute_result"
    }
   ],
   "source": [
    "# Add the GeoDataFrame to the map\n",
    "folium.GeoJson(\n",
    "    data = clearing, \n",
    "    name = \"Clearing\", # again, determine the name for the layer toggle\n",
    "    pane = \"polygonsPane\",\n",
    "    style_function = lambda feature: {\n",
    "        'color': 'brown',\n",
    "        'weight': 1,\n",
    "        'fillColor': 'brown',\n",
    "        'fillOpacity': 0.3         \n",
    "    },tooltip = \"Rodungstrasse\"\n",
    ").add_to(m)"
   ]
  },
  {
   "cell_type": "code",
   "execution_count": 159,
   "id": "5d52acef",
   "metadata": {},
   "outputs": [
    {
     "ename": "DriverError",
     "evalue": "'../data/Rheinwassertransportleitung.kmz' not recognized as a supported file format.",
     "output_type": "error",
     "traceback": [
      "\u001b[0;31m---------------------------------------------------------------------------\u001b[0m",
      "\u001b[0;31mCPLE_OpenFailedError\u001b[0m                      Traceback (most recent call last)",
      "\u001b[0;32mfiona/ogrext.pyx\u001b[0m in \u001b[0;36mfiona.ogrext.gdal_open_vector\u001b[0;34m()\u001b[0m\n",
      "\u001b[0;32mfiona/_err.pyx\u001b[0m in \u001b[0;36mfiona._err.exc_wrap_pointer\u001b[0;34m()\u001b[0m\n",
      "\u001b[0;31mCPLE_OpenFailedError\u001b[0m: '../data/Rheinwassertransportleitung.kmz' not recognized as a supported file format.",
      "\nDuring handling of the above exception, another exception occurred:\n",
      "\u001b[0;31mDriverError\u001b[0m                               Traceback (most recent call last)",
      "\u001b[0;32m/var/folders/0k/103494dx1c5gpkpbrpkwnk180000gn/T/ipykernel_55687/169979336.py\u001b[0m in \u001b[0;36m<module>\u001b[0;34m\u001b[0m\n\u001b[1;32m      1\u001b[0m \u001b[0;31m# load GeoPackage file 'transportleitungen_geom' into geodataframe gdf\u001b[0m\u001b[0;34m\u001b[0m\u001b[0;34m\u001b[0m\u001b[0m\n\u001b[1;32m      2\u001b[0m \u001b[0;34m\u001b[0m\u001b[0m\n\u001b[0;32m----> 3\u001b[0;31m \u001b[0mdestructions\u001b[0m \u001b[0;34m=\u001b[0m \u001b[0mgpd\u001b[0m\u001b[0;34m.\u001b[0m\u001b[0mread_file\u001b[0m\u001b[0;34m(\u001b[0m\u001b[0;34m\"../data/Rheinwassertransportleitung.kmz\"\u001b[0m\u001b[0;34m)\u001b[0m\u001b[0;34m\u001b[0m\u001b[0;34m\u001b[0m\u001b[0m\n\u001b[0m\u001b[1;32m      4\u001b[0m \u001b[0;34m\u001b[0m\u001b[0m\n\u001b[1;32m      5\u001b[0m \u001b[0mpolys\u001b[0m \u001b[0;34m=\u001b[0m \u001b[0mdestructions\u001b[0m\u001b[0;34m[\u001b[0m\u001b[0mdestructions\u001b[0m\u001b[0;34m.\u001b[0m\u001b[0mgeom_type\u001b[0m\u001b[0;34m==\u001b[0m\u001b[0;34m'Polygon'\u001b[0m\u001b[0;34m]\u001b[0m\u001b[0;34m\u001b[0m\u001b[0;34m\u001b[0m\u001b[0m\n",
      "\u001b[0;32m~/opt/anaconda3/lib/python3.9/site-packages/geopandas/io/file.py\u001b[0m in \u001b[0;36m_read_file\u001b[0;34m(filename, bbox, mask, rows, engine, **kwargs)\u001b[0m\n\u001b[1;32m    246\u001b[0m             \u001b[0mpath_or_bytes\u001b[0m \u001b[0;34m=\u001b[0m \u001b[0mfilename\u001b[0m\u001b[0;34m\u001b[0m\u001b[0;34m\u001b[0m\u001b[0m\n\u001b[1;32m    247\u001b[0m \u001b[0;34m\u001b[0m\u001b[0m\n\u001b[0;32m--> 248\u001b[0;31m         return _read_file_fiona(\n\u001b[0m\u001b[1;32m    249\u001b[0m             \u001b[0mpath_or_bytes\u001b[0m\u001b[0;34m,\u001b[0m \u001b[0mfrom_bytes\u001b[0m\u001b[0;34m,\u001b[0m \u001b[0mbbox\u001b[0m\u001b[0;34m=\u001b[0m\u001b[0mbbox\u001b[0m\u001b[0;34m,\u001b[0m \u001b[0mmask\u001b[0m\u001b[0;34m=\u001b[0m\u001b[0mmask\u001b[0m\u001b[0;34m,\u001b[0m \u001b[0mrows\u001b[0m\u001b[0;34m=\u001b[0m\u001b[0mrows\u001b[0m\u001b[0;34m,\u001b[0m \u001b[0;34m**\u001b[0m\u001b[0mkwargs\u001b[0m\u001b[0;34m\u001b[0m\u001b[0;34m\u001b[0m\u001b[0m\n\u001b[1;32m    250\u001b[0m         )\n",
      "\u001b[0;32m~/opt/anaconda3/lib/python3.9/site-packages/geopandas/io/file.py\u001b[0m in \u001b[0;36m_read_file_fiona\u001b[0;34m(path_or_bytes, from_bytes, bbox, mask, rows, where, **kwargs)\u001b[0m\n\u001b[1;32m    287\u001b[0m \u001b[0;34m\u001b[0m\u001b[0m\n\u001b[1;32m    288\u001b[0m     \u001b[0;32mwith\u001b[0m \u001b[0mfiona_env\u001b[0m\u001b[0;34m(\u001b[0m\u001b[0;34m)\u001b[0m\u001b[0;34m:\u001b[0m\u001b[0;34m\u001b[0m\u001b[0;34m\u001b[0m\u001b[0m\n\u001b[0;32m--> 289\u001b[0;31m         \u001b[0;32mwith\u001b[0m \u001b[0mreader\u001b[0m\u001b[0;34m(\u001b[0m\u001b[0mpath_or_bytes\u001b[0m\u001b[0;34m,\u001b[0m \u001b[0;34m**\u001b[0m\u001b[0mkwargs\u001b[0m\u001b[0;34m)\u001b[0m \u001b[0;32mas\u001b[0m \u001b[0mfeatures\u001b[0m\u001b[0;34m:\u001b[0m\u001b[0;34m\u001b[0m\u001b[0;34m\u001b[0m\u001b[0m\n\u001b[0m\u001b[1;32m    290\u001b[0m             \u001b[0mcrs\u001b[0m \u001b[0;34m=\u001b[0m \u001b[0mfeatures\u001b[0m\u001b[0;34m.\u001b[0m\u001b[0mcrs_wkt\u001b[0m\u001b[0;34m\u001b[0m\u001b[0;34m\u001b[0m\u001b[0m\n\u001b[1;32m    291\u001b[0m             \u001b[0;31m# attempt to get EPSG code\u001b[0m\u001b[0;34m\u001b[0m\u001b[0;34m\u001b[0m\u001b[0m\n",
      "\u001b[0;32m~/opt/anaconda3/lib/python3.9/site-packages/fiona/env.py\u001b[0m in \u001b[0;36mwrapper\u001b[0;34m(*args, **kwds)\u001b[0m\n\u001b[1;32m    455\u001b[0m \u001b[0;34m\u001b[0m\u001b[0m\n\u001b[1;32m    456\u001b[0m         \u001b[0;32mwith\u001b[0m \u001b[0menv_ctor\u001b[0m\u001b[0;34m(\u001b[0m\u001b[0msession\u001b[0m\u001b[0;34m=\u001b[0m\u001b[0msession\u001b[0m\u001b[0;34m)\u001b[0m\u001b[0;34m:\u001b[0m\u001b[0;34m\u001b[0m\u001b[0;34m\u001b[0m\u001b[0m\n\u001b[0;32m--> 457\u001b[0;31m             \u001b[0;32mreturn\u001b[0m \u001b[0mf\u001b[0m\u001b[0;34m(\u001b[0m\u001b[0;34m*\u001b[0m\u001b[0margs\u001b[0m\u001b[0;34m,\u001b[0m \u001b[0;34m**\u001b[0m\u001b[0mkwds\u001b[0m\u001b[0;34m)\u001b[0m\u001b[0;34m\u001b[0m\u001b[0;34m\u001b[0m\u001b[0m\n\u001b[0m\u001b[1;32m    458\u001b[0m \u001b[0;34m\u001b[0m\u001b[0m\n\u001b[1;32m    459\u001b[0m     \u001b[0;32mreturn\u001b[0m \u001b[0mwrapper\u001b[0m\u001b[0;34m\u001b[0m\u001b[0;34m\u001b[0m\u001b[0m\n",
      "\u001b[0;32m~/opt/anaconda3/lib/python3.9/site-packages/fiona/__init__.py\u001b[0m in \u001b[0;36mopen\u001b[0;34m(fp, mode, driver, schema, crs, encoding, layer, vfs, enabled_drivers, crs_wkt, allow_unsupported_drivers, **kwargs)\u001b[0m\n\u001b[1;32m    334\u001b[0m \u001b[0;34m\u001b[0m\u001b[0m\n\u001b[1;32m    335\u001b[0m         \u001b[0;32mif\u001b[0m \u001b[0mmode\u001b[0m \u001b[0;32min\u001b[0m \u001b[0;34m(\u001b[0m\u001b[0;34m\"a\"\u001b[0m\u001b[0;34m,\u001b[0m \u001b[0;34m\"r\"\u001b[0m\u001b[0;34m)\u001b[0m\u001b[0;34m:\u001b[0m\u001b[0;34m\u001b[0m\u001b[0;34m\u001b[0m\u001b[0m\n\u001b[0;32m--> 336\u001b[0;31m             colxn = Collection(\n\u001b[0m\u001b[1;32m    337\u001b[0m                 \u001b[0mpath\u001b[0m\u001b[0;34m,\u001b[0m\u001b[0;34m\u001b[0m\u001b[0;34m\u001b[0m\u001b[0m\n\u001b[1;32m    338\u001b[0m                 \u001b[0mmode\u001b[0m\u001b[0;34m,\u001b[0m\u001b[0;34m\u001b[0m\u001b[0;34m\u001b[0m\u001b[0m\n",
      "\u001b[0;32m~/opt/anaconda3/lib/python3.9/site-packages/fiona/collection.py\u001b[0m in \u001b[0;36m__init__\u001b[0;34m(self, path, mode, driver, schema, crs, encoding, layer, vsi, archive, enabled_drivers, crs_wkt, ignore_fields, ignore_geometry, include_fields, wkt_version, allow_unsupported_drivers, **kwargs)\u001b[0m\n\u001b[1;32m    241\u001b[0m             \u001b[0;32mif\u001b[0m \u001b[0mself\u001b[0m\u001b[0;34m.\u001b[0m\u001b[0mmode\u001b[0m \u001b[0;34m==\u001b[0m \u001b[0;34m\"r\"\u001b[0m\u001b[0;34m:\u001b[0m\u001b[0;34m\u001b[0m\u001b[0;34m\u001b[0m\u001b[0m\n\u001b[1;32m    242\u001b[0m                 \u001b[0mself\u001b[0m\u001b[0;34m.\u001b[0m\u001b[0msession\u001b[0m \u001b[0;34m=\u001b[0m \u001b[0mSession\u001b[0m\u001b[0;34m(\u001b[0m\u001b[0;34m)\u001b[0m\u001b[0;34m\u001b[0m\u001b[0;34m\u001b[0m\u001b[0m\n\u001b[0;32m--> 243\u001b[0;31m                 \u001b[0mself\u001b[0m\u001b[0;34m.\u001b[0m\u001b[0msession\u001b[0m\u001b[0;34m.\u001b[0m\u001b[0mstart\u001b[0m\u001b[0;34m(\u001b[0m\u001b[0mself\u001b[0m\u001b[0;34m,\u001b[0m \u001b[0;34m**\u001b[0m\u001b[0mkwargs\u001b[0m\u001b[0;34m)\u001b[0m\u001b[0;34m\u001b[0m\u001b[0;34m\u001b[0m\u001b[0m\n\u001b[0m\u001b[1;32m    244\u001b[0m             \u001b[0;32melif\u001b[0m \u001b[0mself\u001b[0m\u001b[0;34m.\u001b[0m\u001b[0mmode\u001b[0m \u001b[0;32min\u001b[0m \u001b[0;34m(\u001b[0m\u001b[0;34m\"a\"\u001b[0m\u001b[0;34m,\u001b[0m \u001b[0;34m\"w\"\u001b[0m\u001b[0;34m)\u001b[0m\u001b[0;34m:\u001b[0m\u001b[0;34m\u001b[0m\u001b[0;34m\u001b[0m\u001b[0m\n\u001b[1;32m    245\u001b[0m                 \u001b[0mself\u001b[0m\u001b[0;34m.\u001b[0m\u001b[0msession\u001b[0m \u001b[0;34m=\u001b[0m \u001b[0mWritingSession\u001b[0m\u001b[0;34m(\u001b[0m\u001b[0;34m)\u001b[0m\u001b[0;34m\u001b[0m\u001b[0;34m\u001b[0m\u001b[0m\n",
      "\u001b[0;32mfiona/ogrext.pyx\u001b[0m in \u001b[0;36mfiona.ogrext.Session.start\u001b[0;34m()\u001b[0m\n",
      "\u001b[0;32mfiona/ogrext.pyx\u001b[0m in \u001b[0;36mfiona.ogrext.gdal_open_vector\u001b[0;34m()\u001b[0m\n",
      "\u001b[0;31mDriverError\u001b[0m: '../data/Rheinwassertransportleitung.kmz' not recognized as a supported file format."
     ]
    }
   ],
   "source": [
    "# load GeoPackage file 'transportleitungen_geom' into geodataframe gdf\n",
    "\n",
    "destructions = gpd.read_file(\"../data/Rheinwassertransportleitung.kml\")\n",
    "\n",
    "polys = destructions[destructions.geom_type=='Polygon']\n",
    "points = destructions[destructions.geom_type=='Point']\n",
    "\n",
    "# print to inspect the data\n",
    "polys\n",
    "points"
   ]
  },
  {
   "cell_type": "code",
   "execution_count": 54,
   "id": "6dd2d689",
   "metadata": {},
   "outputs": [
    {
     "ename": "NameError",
     "evalue": "name 'points' is not defined",
     "output_type": "error",
     "traceback": [
      "\u001b[0;31m---------------------------------------------------------------------------\u001b[0m",
      "\u001b[0;31mNameError\u001b[0m                                 Traceback (most recent call last)",
      "\u001b[0;32m/var/folders/0k/103494dx1c5gpkpbrpkwnk180000gn/T/ipykernel_55687/2115668807.py\u001b[0m in \u001b[0;36m<module>\u001b[0;34m\u001b[0m\n\u001b[1;32m      1\u001b[0m folium.GeoJson(\n\u001b[0;32m----> 2\u001b[0;31m     \u001b[0mpoints\u001b[0m\u001b[0;34m,\u001b[0m\u001b[0;34m\u001b[0m\u001b[0;34m\u001b[0m\u001b[0m\n\u001b[0m\u001b[1;32m      3\u001b[0m     \u001b[0mname\u001b[0m \u001b[0;34m=\u001b[0m \u001b[0;34m\"Destructions\"\u001b[0m\u001b[0;34m,\u001b[0m \u001b[0;31m# again, determine the name for the layer toggle\u001b[0m\u001b[0;34m\u001b[0m\u001b[0;34m\u001b[0m\u001b[0m\n\u001b[1;32m      4\u001b[0m     \u001b[0mpane\u001b[0m \u001b[0;34m=\u001b[0m \u001b[0;34m\"pointsPane\"\u001b[0m\u001b[0;34m,\u001b[0m\u001b[0;34m\u001b[0m\u001b[0;34m\u001b[0m\u001b[0m\n\u001b[1;32m      5\u001b[0m     marker=folium.Marker(\n",
      "\u001b[0;31mNameError\u001b[0m: name 'points' is not defined"
     ]
    }
   ],
   "source": [
    "folium.GeoJson(\n",
    "    points, \n",
    "    name = \"Destructions\", # again, determine the name for the layer toggle\n",
    "    pane = \"pointsPane\",\n",
    "    marker=folium.Marker(\n",
    "        icon=folium.Icon(color='lightred', icon='person-digging', prefix='fa')\n",
    "    ),\n",
    "    tooltip = folium.GeoJsonTooltip(fields=['Name'], labels = False)\n",
    ").add_to(m)"
   ]
  },
  {
   "cell_type": "code",
   "execution_count": 781,
   "id": "a73fd14d",
   "metadata": {},
   "outputs": [
    {
     "data": {
      "text/plain": [
       "<folium.features.GeoJson at 0x7ff31a704f40>"
      ]
     },
     "execution_count": 781,
     "metadata": {},
     "output_type": "execute_result"
    }
   ],
   "source": [
    "folium.GeoJson(\n",
    "    polys, \n",
    "    name = \"Planned buildings\", # again, determine the name for the layer toggle\n",
    "    pane = \"polygonsPane\",\n",
    "    style_function = lambda feature: {\n",
    "        'color': 'black',\n",
    "        'weight': 1,\n",
    "        'fillColor': 'black',\n",
    "        'fillOpacity': 0.5         \n",
    "    },\n",
    "    tooltip = folium.GeoJsonTooltip(fields=['Name'], labels = False)\n",
    ").add_to(m)"
   ]
  },
  {
   "cell_type": "code",
   "execution_count": 782,
   "id": "ac77b063",
   "metadata": {},
   "outputs": [
    {
     "name": "stdout",
     "output_type": "stream",
     "text": [
      "Your map should have been opened in your browser automatically.\n",
      "Press ctrl+c to return.\n"
     ]
    },
    {
     "name": "stderr",
     "output_type": "stream",
     "text": [
      "Error: Failed to open Wayland display, fallback to X11. WAYLAND_DISPLAY='wayland-0' DISPLAY=':0'\n"
     ]
    }
   ],
   "source": [
    "# Add layer control to toggle layers\n",
    "folium.LayerControl().add_to(m)\n",
    "#m\n",
    "m.show_in_browser()"
   ]
  },
  {
   "cell_type": "code",
   "execution_count": 67,
   "id": "2e6de312-754a-475f-84a8-f55f9b2b346b",
   "metadata": {},
   "outputs": [],
   "source": [
    "# save the map as hmtl\n",
    "m.save('pipe_map.html')"
   ]
  },
  {
   "cell_type": "markdown",
   "id": "bca0fd71-37f8-4aaa-9594-fd3cde3efaeb",
   "metadata": {},
   "source": [
    "---"
   ]
  }
 ],
 "metadata": {
  "kernelspec": {
   "display_name": "Python 3 (ipykernel)",
   "language": "python",
   "name": "python3"
  },
  "language_info": {
   "codemirror_mode": {
    "name": "ipython",
    "version": 3
   },
   "file_extension": ".py",
   "mimetype": "text/x-python",
   "name": "python",
   "nbconvert_exporter": "python",
   "pygments_lexer": "ipython3",
   "version": "3.9.19"
  }
 },
 "nbformat": 4,
 "nbformat_minor": 5
}
